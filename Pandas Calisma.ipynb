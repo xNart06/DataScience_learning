{
 "cells": [
  {
   "cell_type": "code",
   "execution_count": 1,
   "id": "c227065e",
   "metadata": {},
   "outputs": [],
   "source": [
    "import numpy as np\n",
    "import pandas as pd"
   ]
  },
  {
   "cell_type": "markdown",
   "id": "e9bf6433",
   "metadata": {},
   "source": [
    "# Series / Seriler"
   ]
  },
  {
   "cell_type": "code",
   "execution_count": 2,
   "id": "a02448e6",
   "metadata": {},
   "outputs": [
    {
     "name": "stdout",
     "output_type": "stream",
     "text": [
      "Furkan    50\n",
      "Hamza     40\n",
      "Ali       30\n",
      "dtype: int64\n",
      "\n",
      "\n",
      "Furkan    50\n",
      "Hamza     40\n",
      "Ali       30\n",
      "dtype: int64\n",
      "\n",
      "\n",
      "Furkan    50\n",
      "Hamza     40\n",
      "Ali       30\n",
      "dtype: int32\n"
     ]
    }
   ],
   "source": [
    "# numpy dizisine cok benzeyen yapilardir\n",
    "# pandas veri biliminin exceli olarak da gecer\n",
    "# serilerden, numpy diz ilerinden, listlerden bir cok seyden olusturulabilir\n",
    "\n",
    "# dict ile olusturulma\n",
    "myDict = {'Furkan': 50, 'Hamza': 40, 'Ali': 30}\n",
    "print(pd.Series(myDict))\n",
    "\n",
    "print('\\n')\n",
    "\n",
    "# array ile\n",
    "myAgeArr = [50,40,30]\n",
    "myNameArr = ['Furkan', 'Hamza', 'Ali']\n",
    "print(pd.Series(data = myAgeArr, index = myNameArr)) # burada data ve index degerleri belirtmesek de calisir fakat belirtmekte fayda var\n",
    "\n",
    "print('\\n')\n",
    "\n",
    "#numpy dizisi ile\n",
    "numpyArr = np.array([50,40,30])\n",
    "print(pd.Series( data = numpyArr, index = myNameArr))"
   ]
  },
  {
   "cell_type": "code",
   "execution_count": 3,
   "id": "9a00ab76",
   "metadata": {},
   "outputs": [
    {
     "data": {
      "text/plain": [
       "1    Furkan\n",
       "2     Hamza\n",
       "3       Ali\n",
       "dtype: object"
      ]
     },
     "execution_count": 3,
     "metadata": {},
     "output_type": "execute_result"
    }
   ],
   "source": [
    "# data el ile de girilebilir\n",
    "pd.Series(data = ['Furkan', 'Hamza', 'Ali'], index = [1,2,3])"
   ]
  },
  {
   "cell_type": "code",
   "execution_count": 4,
   "id": "bbdf39f2",
   "metadata": {},
   "outputs": [
    {
     "name": "stdout",
     "output_type": "stream",
     "text": [
      "Furkan    10\n",
      "Hamza      5\n",
      "Ali        1\n",
      "dtype: int64\n",
      "\n",
      "\n",
      "Furkan    20\n",
      "Hamza     10\n",
      "Ali        8\n",
      "dtype: int64\n"
     ]
    }
   ],
   "source": [
    "# 2 tane seri tanimlayip bunlar uzerinde islemler yapalim\n",
    "yarismaSonucu1 = pd.Series(data = [10,5,1], index = ['Furkan', 'Hamza', 'Ali'])\n",
    "print(yarismaSonucu1)\n",
    "\n",
    "print('\\n')\n",
    "\n",
    "yarismaSonucu2 = pd.Series(data = [20,10,8], index = ['Furkan', 'Hamza', 'Ali'])\n",
    "print(yarismaSonucu2)"
   ]
  },
  {
   "cell_type": "code",
   "execution_count": 5,
   "id": "0fabd331",
   "metadata": {},
   "outputs": [
    {
     "name": "stdout",
     "output_type": "stream",
     "text": [
      "10\n",
      "Furkan    30\n",
      "Hamza     15\n",
      "Ali        9\n",
      "dtype: int64\n"
     ]
    }
   ],
   "source": [
    "# yarismaSonucu2 de Hamzanin kac puan aldigina bakalim\n",
    "print(yarismaSonucu2['Hamza']) # index numarasi yerine dogrudan istedigimiz veriyi yaziyoruz\n",
    "\n",
    "# 2 sonucu birlestirelim\n",
    "sonSonuc = yarismaSonucu1 + yarismaSonucu2\n",
    "print(sonSonuc)"
   ]
  },
  {
   "cell_type": "code",
   "execution_count": 6,
   "id": "215c303f",
   "metadata": {},
   "outputs": [
    {
     "name": "stdout",
     "output_type": "stream",
     "text": [
      "a    30.0\n",
      "b     NaN\n",
      "c    45.0\n",
      "d     NaN\n",
      "f     NaN\n",
      "g     NaN\n",
      "dtype: float64\n"
     ]
    }
   ],
   "source": [
    "# yukardakinin aksine farkli index degerleri iceren iki series toplansin\n",
    "farkliSeries = pd.Series(data = [20,30,40,50], index = ['a','b','c','d'])\n",
    "farkliSeries2 = pd.Series(data = [10,5,3,1], index = ['a','c','f','g'])\n",
    "\n",
    "# ikisinde ortak olmayan degerleri buldugu zaman NaN vercek\n",
    "sonuc = farkliSeries + farkliSeries2\n",
    "print(sonuc)"
   ]
  },
  {
   "cell_type": "markdown",
   "id": "0f616f3f",
   "metadata": {},
   "source": [
    "# DataFrame"
   ]
  },
  {
   "cell_type": "code",
   "execution_count": 7,
   "id": "5dc0f582",
   "metadata": {},
   "outputs": [],
   "source": [
    "# DataFrame'leri Serilerin birlestirilmis hali olarak dusunebiliriz\n",
    "# oncelikle islem yapabilmek icin bir veri olusturalim\n",
    "data = np.random.rand(4,3)"
   ]
  },
  {
   "cell_type": "code",
   "execution_count": 8,
   "id": "8302f737",
   "metadata": {},
   "outputs": [
    {
     "data": {
      "text/html": [
       "<div>\n",
       "<style scoped>\n",
       "    .dataframe tbody tr th:only-of-type {\n",
       "        vertical-align: middle;\n",
       "    }\n",
       "\n",
       "    .dataframe tbody tr th {\n",
       "        vertical-align: top;\n",
       "    }\n",
       "\n",
       "    .dataframe thead th {\n",
       "        text-align: right;\n",
       "    }\n",
       "</style>\n",
       "<table border=\"1\" class=\"dataframe\">\n",
       "  <thead>\n",
       "    <tr style=\"text-align: right;\">\n",
       "      <th></th>\n",
       "      <th>0</th>\n",
       "      <th>1</th>\n",
       "      <th>2</th>\n",
       "    </tr>\n",
       "  </thead>\n",
       "  <tbody>\n",
       "    <tr>\n",
       "      <th>0</th>\n",
       "      <td>0.702464</td>\n",
       "      <td>0.624137</td>\n",
       "      <td>0.540949</td>\n",
       "    </tr>\n",
       "    <tr>\n",
       "      <th>1</th>\n",
       "      <td>0.754901</td>\n",
       "      <td>0.685438</td>\n",
       "      <td>0.694400</td>\n",
       "    </tr>\n",
       "    <tr>\n",
       "      <th>2</th>\n",
       "      <td>0.776928</td>\n",
       "      <td>0.670241</td>\n",
       "      <td>0.719130</td>\n",
       "    </tr>\n",
       "    <tr>\n",
       "      <th>3</th>\n",
       "      <td>0.797701</td>\n",
       "      <td>0.858056</td>\n",
       "      <td>0.861951</td>\n",
       "    </tr>\n",
       "  </tbody>\n",
       "</table>\n",
       "</div>"
      ],
      "text/plain": [
       "          0         1         2\n",
       "0  0.702464  0.624137  0.540949\n",
       "1  0.754901  0.685438  0.694400\n",
       "2  0.776928  0.670241  0.719130\n",
       "3  0.797701  0.858056  0.861951"
      ]
     },
     "execution_count": 8,
     "metadata": {},
     "output_type": "execute_result"
    }
   ],
   "source": [
    "dataFrame = pd.DataFrame(data)\n",
    "\n",
    "dataFrame"
   ]
  },
  {
   "cell_type": "code",
   "execution_count": 9,
   "id": "90996d29",
   "metadata": {},
   "outputs": [
    {
     "data": {
      "text/plain": [
       "0    0.702464\n",
       "1    0.754901\n",
       "2    0.776928\n",
       "3    0.797701\n",
       "Name: 0, dtype: float64"
      ]
     },
     "execution_count": 9,
     "metadata": {},
     "output_type": "execute_result"
    }
   ],
   "source": [
    "# index yazarsak yazdigimiz index ile KOLON'u bize getirecektir\n",
    "dataFrame[0]"
   ]
  },
  {
   "cell_type": "code",
   "execution_count": 10,
   "id": "af49028c",
   "metadata": {},
   "outputs": [
    {
     "data": {
      "text/html": [
       "<div>\n",
       "<style scoped>\n",
       "    .dataframe tbody tr th:only-of-type {\n",
       "        vertical-align: middle;\n",
       "    }\n",
       "\n",
       "    .dataframe tbody tr th {\n",
       "        vertical-align: top;\n",
       "    }\n",
       "\n",
       "    .dataframe thead th {\n",
       "        text-align: right;\n",
       "    }\n",
       "</style>\n",
       "<table border=\"1\" class=\"dataframe\">\n",
       "  <thead>\n",
       "    <tr style=\"text-align: right;\">\n",
       "      <th></th>\n",
       "      <th>Maas</th>\n",
       "      <th>Yas</th>\n",
       "      <th>Calisma Saati</th>\n",
       "    </tr>\n",
       "  </thead>\n",
       "  <tbody>\n",
       "    <tr>\n",
       "      <th>Furkan</th>\n",
       "      <td>0.702464</td>\n",
       "      <td>0.624137</td>\n",
       "      <td>0.540949</td>\n",
       "    </tr>\n",
       "    <tr>\n",
       "      <th>Hamza</th>\n",
       "      <td>0.754901</td>\n",
       "      <td>0.685438</td>\n",
       "      <td>0.694400</td>\n",
       "    </tr>\n",
       "    <tr>\n",
       "      <th>Ali</th>\n",
       "      <td>0.776928</td>\n",
       "      <td>0.670241</td>\n",
       "      <td>0.719130</td>\n",
       "    </tr>\n",
       "    <tr>\n",
       "      <th>Ayse</th>\n",
       "      <td>0.797701</td>\n",
       "      <td>0.858056</td>\n",
       "      <td>0.861951</td>\n",
       "    </tr>\n",
       "  </tbody>\n",
       "</table>\n",
       "</div>"
      ],
      "text/plain": [
       "            Maas       Yas  Calisma Saati\n",
       "Furkan  0.702464  0.624137       0.540949\n",
       "Hamza   0.754901  0.685438       0.694400\n",
       "Ali     0.776928  0.670241       0.719130\n",
       "Ayse    0.797701  0.858056       0.861951"
      ]
     },
     "execution_count": 10,
     "metadata": {},
     "output_type": "execute_result"
    }
   ],
   "source": [
    "# yeni bir dataFrame olusturup index ve labellari elle girelim\n",
    "# index adlari icin [index] kolon adlari icin [columns] kullancaz\n",
    "newDataFrame = pd.DataFrame(data, index = ['Furkan','Hamza','Ali','Ayse'], columns = ['Maas','Yas','Calisma Saati'])\n",
    "\n",
    "newDataFrame"
   ]
  },
  {
   "cell_type": "code",
   "execution_count": 11,
   "id": "7840795c",
   "metadata": {
    "scrolled": true
   },
   "outputs": [
    {
     "name": "stdout",
     "output_type": "stream",
     "text": [
      "Furkan    0.624137\n",
      "Hamza     0.685438\n",
      "Ali       0.670241\n",
      "Ayse      0.858056\n",
      "Name: Yas, dtype: float64\n",
      "\n",
      "\n",
      "Furkan    0.540949\n",
      "Hamza     0.694400\n",
      "Ali       0.719130\n",
      "Ayse      0.861951\n",
      "Name: Calisma Saati, dtype: float64\n",
      "\n",
      "\n",
      "            Maas       Yas\n",
      "Furkan  0.702464  0.624137\n",
      "Hamza   0.754901  0.685438\n",
      "Ali     0.776928  0.670241\n",
      "Ayse    0.797701  0.858056\n",
      "\n",
      "\n",
      "Maas             0.702464\n",
      "Yas              0.624137\n",
      "Calisma Saati    0.540949\n",
      "Name: Furkan, dtype: float64\n",
      "\n",
      "\n",
      "Maas             0.754901\n",
      "Yas              0.685438\n",
      "Calisma Saati    0.694400\n",
      "Name: Hamza, dtype: float64\n"
     ]
    }
   ],
   "source": [
    "# ornek olmasi amaciyla veriler cekelim bundan\n",
    "print(newDataFrame['Yas'])\n",
    "print('\\n')\n",
    "\n",
    "print(newDataFrame['Calisma Saati'])\n",
    "print('\\n')\n",
    "\n",
    "# 2 kolon degerindeki verileri istiyorum\n",
    "print(newDataFrame[['Maas', 'Yas']])\n",
    "print('\\n')\n",
    "\n",
    "# kolon yerine index deki isimlerden birinin verileri getirelim [.loc kullancaz]\n",
    "# Furkanin verileri gelsin\n",
    "print(newDataFrame.loc['Furkan'])\n",
    "print('\\n')\n",
    "\n",
    "# veya dogrudan index numarasini kullanarak cagirabiliriz [iloc]\n",
    "print(newDataFrame.iloc[1])"
   ]
  },
  {
   "cell_type": "markdown",
   "id": "6ac93953",
   "metadata": {},
   "source": [
    "### DataFrame indeksler"
   ]
  },
  {
   "cell_type": "code",
   "execution_count": 12,
   "id": "fedf263a",
   "metadata": {},
   "outputs": [
    {
     "data": {
      "text/html": [
       "<div>\n",
       "<style scoped>\n",
       "    .dataframe tbody tr th:only-of-type {\n",
       "        vertical-align: middle;\n",
       "    }\n",
       "\n",
       "    .dataframe tbody tr th {\n",
       "        vertical-align: top;\n",
       "    }\n",
       "\n",
       "    .dataframe thead th {\n",
       "        text-align: right;\n",
       "    }\n",
       "</style>\n",
       "<table border=\"1\" class=\"dataframe\">\n",
       "  <thead>\n",
       "    <tr style=\"text-align: right;\">\n",
       "      <th></th>\n",
       "      <th>Maas</th>\n",
       "      <th>Yas</th>\n",
       "      <th>Calisma Saati</th>\n",
       "    </tr>\n",
       "  </thead>\n",
       "  <tbody>\n",
       "    <tr>\n",
       "      <th>Furkan</th>\n",
       "      <td>0.702464</td>\n",
       "      <td>0.624137</td>\n",
       "      <td>0.540949</td>\n",
       "    </tr>\n",
       "    <tr>\n",
       "      <th>Hamza</th>\n",
       "      <td>0.754901</td>\n",
       "      <td>0.685438</td>\n",
       "      <td>0.694400</td>\n",
       "    </tr>\n",
       "    <tr>\n",
       "      <th>Ali</th>\n",
       "      <td>0.776928</td>\n",
       "      <td>0.670241</td>\n",
       "      <td>0.719130</td>\n",
       "    </tr>\n",
       "    <tr>\n",
       "      <th>Ayse</th>\n",
       "      <td>0.797701</td>\n",
       "      <td>0.858056</td>\n",
       "      <td>0.861951</td>\n",
       "    </tr>\n",
       "  </tbody>\n",
       "</table>\n",
       "</div>"
      ],
      "text/plain": [
       "            Maas       Yas  Calisma Saati\n",
       "Furkan  0.702464  0.624137       0.540949\n",
       "Hamza   0.754901  0.685438       0.694400\n",
       "Ali     0.776928  0.670241       0.719130\n",
       "Ayse    0.797701  0.858056       0.861951"
      ]
     },
     "execution_count": 12,
     "metadata": {},
     "output_type": "execute_result"
    }
   ],
   "source": [
    "newDataFrame"
   ]
  },
  {
   "cell_type": "code",
   "execution_count": 13,
   "id": "cc3d7a31",
   "metadata": {},
   "outputs": [
    {
     "data": {
      "text/html": [
       "<div>\n",
       "<style scoped>\n",
       "    .dataframe tbody tr th:only-of-type {\n",
       "        vertical-align: middle;\n",
       "    }\n",
       "\n",
       "    .dataframe tbody tr th {\n",
       "        vertical-align: top;\n",
       "    }\n",
       "\n",
       "    .dataframe thead th {\n",
       "        text-align: right;\n",
       "    }\n",
       "</style>\n",
       "<table border=\"1\" class=\"dataframe\">\n",
       "  <thead>\n",
       "    <tr style=\"text-align: right;\">\n",
       "      <th></th>\n",
       "      <th>Maas</th>\n",
       "      <th>Yas</th>\n",
       "      <th>Calisma Saati</th>\n",
       "      <th>Emeklilik Yasi</th>\n",
       "    </tr>\n",
       "  </thead>\n",
       "  <tbody>\n",
       "    <tr>\n",
       "      <th>Furkan</th>\n",
       "      <td>0.702464</td>\n",
       "      <td>0.624137</td>\n",
       "      <td>0.540949</td>\n",
       "      <td>1.248274</td>\n",
       "    </tr>\n",
       "    <tr>\n",
       "      <th>Hamza</th>\n",
       "      <td>0.754901</td>\n",
       "      <td>0.685438</td>\n",
       "      <td>0.694400</td>\n",
       "      <td>1.370876</td>\n",
       "    </tr>\n",
       "    <tr>\n",
       "      <th>Ali</th>\n",
       "      <td>0.776928</td>\n",
       "      <td>0.670241</td>\n",
       "      <td>0.719130</td>\n",
       "      <td>1.340481</td>\n",
       "    </tr>\n",
       "    <tr>\n",
       "      <th>Ayse</th>\n",
       "      <td>0.797701</td>\n",
       "      <td>0.858056</td>\n",
       "      <td>0.861951</td>\n",
       "      <td>1.716112</td>\n",
       "    </tr>\n",
       "  </tbody>\n",
       "</table>\n",
       "</div>"
      ],
      "text/plain": [
       "            Maas       Yas  Calisma Saati  Emeklilik Yasi\n",
       "Furkan  0.702464  0.624137       0.540949        1.248274\n",
       "Hamza   0.754901  0.685438       0.694400        1.370876\n",
       "Ali     0.776928  0.670241       0.719130        1.340481\n",
       "Ayse    0.797701  0.858056       0.861951        1.716112"
      ]
     },
     "execution_count": 13,
     "metadata": {},
     "output_type": "execute_result"
    }
   ],
   "source": [
    "# Yeni kolon ekleme\n",
    "\n",
    "# emeklilik yasi adinda kolon olusturup degerlerine yas degerlerinin toplamini atayalim\n",
    "newDataFrame['Emeklilik Yasi'] = newDataFrame['Yas'] + newDataFrame['Yas']\n",
    "newDataFrame"
   ]
  },
  {
   "cell_type": "code",
   "execution_count": 14,
   "id": "35046e7f",
   "metadata": {},
   "outputs": [
    {
     "data": {
      "text/html": [
       "<div>\n",
       "<style scoped>\n",
       "    .dataframe tbody tr th:only-of-type {\n",
       "        vertical-align: middle;\n",
       "    }\n",
       "\n",
       "    .dataframe tbody tr th {\n",
       "        vertical-align: top;\n",
       "    }\n",
       "\n",
       "    .dataframe thead th {\n",
       "        text-align: right;\n",
       "    }\n",
       "</style>\n",
       "<table border=\"1\" class=\"dataframe\">\n",
       "  <thead>\n",
       "    <tr style=\"text-align: right;\">\n",
       "      <th></th>\n",
       "      <th>Yas</th>\n",
       "      <th>Calisma Saati</th>\n",
       "      <th>Emeklilik Yasi</th>\n",
       "    </tr>\n",
       "  </thead>\n",
       "  <tbody>\n",
       "    <tr>\n",
       "      <th>Furkan</th>\n",
       "      <td>0.624137</td>\n",
       "      <td>0.540949</td>\n",
       "      <td>1.248274</td>\n",
       "    </tr>\n",
       "    <tr>\n",
       "      <th>Hamza</th>\n",
       "      <td>0.685438</td>\n",
       "      <td>0.694400</td>\n",
       "      <td>1.370876</td>\n",
       "    </tr>\n",
       "    <tr>\n",
       "      <th>Ali</th>\n",
       "      <td>0.670241</td>\n",
       "      <td>0.719130</td>\n",
       "      <td>1.340481</td>\n",
       "    </tr>\n",
       "    <tr>\n",
       "      <th>Ayse</th>\n",
       "      <td>0.858056</td>\n",
       "      <td>0.861951</td>\n",
       "      <td>1.716112</td>\n",
       "    </tr>\n",
       "  </tbody>\n",
       "</table>\n",
       "</div>"
      ],
      "text/plain": [
       "             Yas  Calisma Saati  Emeklilik Yasi\n",
       "Furkan  0.624137       0.540949        1.248274\n",
       "Hamza   0.685438       0.694400        1.370876\n",
       "Ali     0.670241       0.719130        1.340481\n",
       "Ayse    0.858056       0.861951        1.716112"
      ]
     },
     "execution_count": 14,
     "metadata": {},
     "output_type": "execute_result"
    }
   ],
   "source": [
    "# silme islemi\n",
    "\n",
    "# [axis = 0 SATIR] || [axis = 1 SUTUN]\n",
    "# axis default olarak 0 kabul edilir\n",
    "newDataFrame.drop('Maas', axis = 1)"
   ]
  },
  {
   "cell_type": "code",
   "execution_count": 15,
   "id": "9d366e08",
   "metadata": {},
   "outputs": [
    {
     "data": {
      "text/html": [
       "<div>\n",
       "<style scoped>\n",
       "    .dataframe tbody tr th:only-of-type {\n",
       "        vertical-align: middle;\n",
       "    }\n",
       "\n",
       "    .dataframe tbody tr th {\n",
       "        vertical-align: top;\n",
       "    }\n",
       "\n",
       "    .dataframe thead th {\n",
       "        text-align: right;\n",
       "    }\n",
       "</style>\n",
       "<table border=\"1\" class=\"dataframe\">\n",
       "  <thead>\n",
       "    <tr style=\"text-align: right;\">\n",
       "      <th></th>\n",
       "      <th>Maas</th>\n",
       "      <th>Yas</th>\n",
       "      <th>Calisma Saati</th>\n",
       "      <th>Emeklilik Yasi</th>\n",
       "    </tr>\n",
       "  </thead>\n",
       "  <tbody>\n",
       "    <tr>\n",
       "      <th>Furkan</th>\n",
       "      <td>0.702464</td>\n",
       "      <td>0.624137</td>\n",
       "      <td>0.540949</td>\n",
       "      <td>1.248274</td>\n",
       "    </tr>\n",
       "    <tr>\n",
       "      <th>Hamza</th>\n",
       "      <td>0.754901</td>\n",
       "      <td>0.685438</td>\n",
       "      <td>0.694400</td>\n",
       "      <td>1.370876</td>\n",
       "    </tr>\n",
       "    <tr>\n",
       "      <th>Ayse</th>\n",
       "      <td>0.797701</td>\n",
       "      <td>0.858056</td>\n",
       "      <td>0.861951</td>\n",
       "      <td>1.716112</td>\n",
       "    </tr>\n",
       "  </tbody>\n",
       "</table>\n",
       "</div>"
      ],
      "text/plain": [
       "            Maas       Yas  Calisma Saati  Emeklilik Yasi\n",
       "Furkan  0.702464  0.624137       0.540949        1.248274\n",
       "Hamza   0.754901  0.685438       0.694400        1.370876\n",
       "Ayse    0.797701  0.858056       0.861951        1.716112"
      ]
     },
     "execution_count": 15,
     "metadata": {},
     "output_type": "execute_result"
    }
   ],
   "source": [
    "# satir dusurme\n",
    "newDataFrame.drop('Ali', axis = 0)"
   ]
  },
  {
   "cell_type": "code",
   "execution_count": 16,
   "id": "a2a846d3",
   "metadata": {},
   "outputs": [
    {
     "name": "stdout",
     "output_type": "stream",
     "text": [
      "            Maas       Yas  Calisma Saati  Emeklilik Yasi\n",
      "Furkan  0.702464  0.624137       0.540949        1.248274\n",
      "Hamza   0.754901  0.685438       0.694400        1.370876\n",
      "Ali     0.776928  0.670241       0.719130        1.340481\n",
      "Ayse    0.797701  0.858056       0.861951        1.716112\n",
      "\n",
      "\n"
     ]
    },
    {
     "data": {
      "text/html": [
       "<div>\n",
       "<style scoped>\n",
       "    .dataframe tbody tr th:only-of-type {\n",
       "        vertical-align: middle;\n",
       "    }\n",
       "\n",
       "    .dataframe tbody tr th {\n",
       "        vertical-align: top;\n",
       "    }\n",
       "\n",
       "    .dataframe thead th {\n",
       "        text-align: right;\n",
       "    }\n",
       "</style>\n",
       "<table border=\"1\" class=\"dataframe\">\n",
       "  <thead>\n",
       "    <tr style=\"text-align: right;\">\n",
       "      <th></th>\n",
       "      <th>Yas</th>\n",
       "      <th>Calisma Saati</th>\n",
       "      <th>Emeklilik Yasi</th>\n",
       "    </tr>\n",
       "  </thead>\n",
       "  <tbody>\n",
       "    <tr>\n",
       "      <th>Furkan</th>\n",
       "      <td>0.624137</td>\n",
       "      <td>0.540949</td>\n",
       "      <td>1.248274</td>\n",
       "    </tr>\n",
       "    <tr>\n",
       "      <th>Hamza</th>\n",
       "      <td>0.685438</td>\n",
       "      <td>0.694400</td>\n",
       "      <td>1.370876</td>\n",
       "    </tr>\n",
       "    <tr>\n",
       "      <th>Ali</th>\n",
       "      <td>0.670241</td>\n",
       "      <td>0.719130</td>\n",
       "      <td>1.340481</td>\n",
       "    </tr>\n",
       "    <tr>\n",
       "      <th>Ayse</th>\n",
       "      <td>0.858056</td>\n",
       "      <td>0.861951</td>\n",
       "      <td>1.716112</td>\n",
       "    </tr>\n",
       "  </tbody>\n",
       "</table>\n",
       "</div>"
      ],
      "text/plain": [
       "             Yas  Calisma Saati  Emeklilik Yasi\n",
       "Furkan  0.624137       0.540949        1.248274\n",
       "Hamza   0.685438       0.694400        1.370876\n",
       "Ali     0.670241       0.719130        1.340481\n",
       "Ayse    0.858056       0.861951        1.716112"
      ]
     },
     "execution_count": 16,
     "metadata": {},
     "output_type": "execute_result"
    }
   ],
   "source": [
    "# Her ne kadar silme islemi yapmis olsak da DataFrame i cagirdigimiz zaman silinmemis olarak gozukuyor\n",
    "print(newDataFrame)\n",
    "print('\\n')\n",
    "\n",
    "# bunu inplace kullanarak asiyoruz || degisiklikleri dataFrame icinde degistir gibi bir anlami var\n",
    "newDataFrame.drop('Maas', axis = 1, inplace = True)\n",
    "newDataFrame"
   ]
  },
  {
   "cell_type": "code",
   "execution_count": 17,
   "id": "db6926b5",
   "metadata": {},
   "outputs": [
    {
     "name": "stdout",
     "output_type": "stream",
     "text": [
      "0.6241369382174543\n",
      "0.6241369382174543\n"
     ]
    }
   ],
   "source": [
    "# DataFrame icinde istenen kisinin istenilen degerini ogrenme\n",
    "print(newDataFrame.loc['Furkan', 'Yas'])\n",
    "\n",
    "# farkli kullanimi\n",
    "print(newDataFrame.loc['Furkan']['Yas'])"
   ]
  },
  {
   "cell_type": "code",
   "execution_count": 18,
   "id": "3c490b2a",
   "metadata": {},
   "outputs": [
    {
     "data": {
      "text/html": [
       "<div>\n",
       "<style scoped>\n",
       "    .dataframe tbody tr th:only-of-type {\n",
       "        vertical-align: middle;\n",
       "    }\n",
       "\n",
       "    .dataframe tbody tr th {\n",
       "        vertical-align: top;\n",
       "    }\n",
       "\n",
       "    .dataframe thead th {\n",
       "        text-align: right;\n",
       "    }\n",
       "</style>\n",
       "<table border=\"1\" class=\"dataframe\">\n",
       "  <thead>\n",
       "    <tr style=\"text-align: right;\">\n",
       "      <th></th>\n",
       "      <th>Yas</th>\n",
       "      <th>Calisma Saati</th>\n",
       "      <th>Emeklilik Yasi</th>\n",
       "    </tr>\n",
       "  </thead>\n",
       "  <tbody>\n",
       "    <tr>\n",
       "      <th>Furkan</th>\n",
       "      <td>False</td>\n",
       "      <td>False</td>\n",
       "      <td>True</td>\n",
       "    </tr>\n",
       "    <tr>\n",
       "      <th>Hamza</th>\n",
       "      <td>False</td>\n",
       "      <td>False</td>\n",
       "      <td>True</td>\n",
       "    </tr>\n",
       "    <tr>\n",
       "      <th>Ali</th>\n",
       "      <td>False</td>\n",
       "      <td>False</td>\n",
       "      <td>True</td>\n",
       "    </tr>\n",
       "    <tr>\n",
       "      <th>Ayse</th>\n",
       "      <td>False</td>\n",
       "      <td>False</td>\n",
       "      <td>True</td>\n",
       "    </tr>\n",
       "  </tbody>\n",
       "</table>\n",
       "</div>"
      ],
      "text/plain": [
       "          Yas  Calisma Saati  Emeklilik Yasi\n",
       "Furkan  False          False            True\n",
       "Hamza   False          False            True\n",
       "Ali     False          False            True\n",
       "Ayse    False          False            True"
      ]
     },
     "execution_count": 18,
     "metadata": {},
     "output_type": "execute_result"
    }
   ],
   "source": [
    "# 1 den buyuk olan degerleri bulmak istiyorum\n",
    "newDataFrame>1"
   ]
  },
  {
   "cell_type": "code",
   "execution_count": 19,
   "id": "d2c0c98f",
   "metadata": {},
   "outputs": [
    {
     "data": {
      "text/html": [
       "<div>\n",
       "<style scoped>\n",
       "    .dataframe tbody tr th:only-of-type {\n",
       "        vertical-align: middle;\n",
       "    }\n",
       "\n",
       "    .dataframe tbody tr th {\n",
       "        vertical-align: top;\n",
       "    }\n",
       "\n",
       "    .dataframe thead th {\n",
       "        text-align: right;\n",
       "    }\n",
       "</style>\n",
       "<table border=\"1\" class=\"dataframe\">\n",
       "  <thead>\n",
       "    <tr style=\"text-align: right;\">\n",
       "      <th></th>\n",
       "      <th>Yas</th>\n",
       "      <th>Calisma Saati</th>\n",
       "      <th>Emeklilik Yasi</th>\n",
       "    </tr>\n",
       "  </thead>\n",
       "  <tbody>\n",
       "    <tr>\n",
       "      <th>Furkan</th>\n",
       "      <td>NaN</td>\n",
       "      <td>NaN</td>\n",
       "      <td>1.248274</td>\n",
       "    </tr>\n",
       "    <tr>\n",
       "      <th>Hamza</th>\n",
       "      <td>NaN</td>\n",
       "      <td>NaN</td>\n",
       "      <td>1.370876</td>\n",
       "    </tr>\n",
       "    <tr>\n",
       "      <th>Ali</th>\n",
       "      <td>NaN</td>\n",
       "      <td>NaN</td>\n",
       "      <td>1.340481</td>\n",
       "    </tr>\n",
       "    <tr>\n",
       "      <th>Ayse</th>\n",
       "      <td>NaN</td>\n",
       "      <td>NaN</td>\n",
       "      <td>1.716112</td>\n",
       "    </tr>\n",
       "  </tbody>\n",
       "</table>\n",
       "</div>"
      ],
      "text/plain": [
       "        Yas  Calisma Saati  Emeklilik Yasi\n",
       "Furkan  NaN            NaN        1.248274\n",
       "Hamza   NaN            NaN        1.370876\n",
       "Ali     NaN            NaN        1.340481\n",
       "Ayse    NaN            NaN        1.716112"
      ]
     },
     "execution_count": 19,
     "metadata": {},
     "output_type": "execute_result"
    }
   ],
   "source": [
    "# degerleri de gorelim || daha once numpy da yapmistik\n",
    "boolenFrame = newDataFrame > 1\n",
    "newDataFrame[boolenFrame]"
   ]
  },
  {
   "cell_type": "code",
   "execution_count": 20,
   "id": "219ee1ea",
   "metadata": {},
   "outputs": [
    {
     "data": {
      "text/plain": [
       "Furkan    True\n",
       "Hamza     True\n",
       "Ali       True\n",
       "Ayse      True\n",
       "Name: Emeklilik Yasi, dtype: bool"
      ]
     },
     "execution_count": 20,
     "metadata": {},
     "output_type": "execute_result"
    }
   ],
   "source": [
    "# ayni islemi satirlar ile yapalim (indexlerle)\n",
    "newDataFrame['Emeklilik Yasi'] > 1"
   ]
  },
  {
   "cell_type": "code",
   "execution_count": 21,
   "id": "33356fd0",
   "metadata": {},
   "outputs": [
    {
     "data": {
      "text/html": [
       "<div>\n",
       "<style scoped>\n",
       "    .dataframe tbody tr th:only-of-type {\n",
       "        vertical-align: middle;\n",
       "    }\n",
       "\n",
       "    .dataframe tbody tr th {\n",
       "        vertical-align: top;\n",
       "    }\n",
       "\n",
       "    .dataframe thead th {\n",
       "        text-align: right;\n",
       "    }\n",
       "</style>\n",
       "<table border=\"1\" class=\"dataframe\">\n",
       "  <thead>\n",
       "    <tr style=\"text-align: right;\">\n",
       "      <th></th>\n",
       "      <th>index</th>\n",
       "      <th>Yas</th>\n",
       "      <th>Calisma Saati</th>\n",
       "      <th>Emeklilik Yasi</th>\n",
       "    </tr>\n",
       "  </thead>\n",
       "  <tbody>\n",
       "    <tr>\n",
       "      <th>0</th>\n",
       "      <td>Furkan</td>\n",
       "      <td>0.624137</td>\n",
       "      <td>0.540949</td>\n",
       "      <td>1.248274</td>\n",
       "    </tr>\n",
       "    <tr>\n",
       "      <th>1</th>\n",
       "      <td>Hamza</td>\n",
       "      <td>0.685438</td>\n",
       "      <td>0.694400</td>\n",
       "      <td>1.370876</td>\n",
       "    </tr>\n",
       "    <tr>\n",
       "      <th>2</th>\n",
       "      <td>Ali</td>\n",
       "      <td>0.670241</td>\n",
       "      <td>0.719130</td>\n",
       "      <td>1.340481</td>\n",
       "    </tr>\n",
       "    <tr>\n",
       "      <th>3</th>\n",
       "      <td>Ayse</td>\n",
       "      <td>0.858056</td>\n",
       "      <td>0.861951</td>\n",
       "      <td>1.716112</td>\n",
       "    </tr>\n",
       "  </tbody>\n",
       "</table>\n",
       "</div>"
      ],
      "text/plain": [
       "    index       Yas  Calisma Saati  Emeklilik Yasi\n",
       "0  Furkan  0.624137       0.540949        1.248274\n",
       "1   Hamza  0.685438       0.694400        1.370876\n",
       "2     Ali  0.670241       0.719130        1.340481\n",
       "3    Ayse  0.858056       0.861951        1.716112"
      ]
     },
     "execution_count": 21,
     "metadata": {},
     "output_type": "execute_result"
    }
   ],
   "source": [
    "# index'i degistirmek isteyebiliriz. Karsimiza gelebilecek senaryoya gore isteklerimiz degisebilir\n",
    "\n",
    "# reset_index() fonksiyonu ile yeni bir kolon acip onceki index degerlerini buraya atiyor\n",
    "newDataFrame.reset_index()"
   ]
  },
  {
   "cell_type": "code",
   "execution_count": 22,
   "id": "f494879d",
   "metadata": {},
   "outputs": [
    {
     "name": "stdout",
     "output_type": "stream",
     "text": [
      "             Yas  Calisma Saati  Emeklilik Yasi Yeni Index\n",
      "Furkan  0.624137       0.540949        1.248274        Fur\n",
      "Hamza   0.685438       0.694400        1.370876        Ham\n",
      "Ali     0.670241       0.719130        1.340481         Al\n",
      "Ayse    0.858056       0.861951        1.716112         Ay\n",
      "\n",
      "\n",
      "                 Yas  Calisma Saati  Emeklilik Yasi\n",
      "Yeni Index                                         \n",
      "Fur         0.624137       0.540949        1.248274\n",
      "Ham         0.685438       0.694400        1.370876\n",
      "Al          0.670241       0.719130        1.340481\n",
      "Ay          0.858056       0.861951        1.716112\n"
     ]
    },
    {
     "data": {
      "text/plain": [
       "Yas               0.624137\n",
       "Calisma Saati     0.540949\n",
       "Emeklilik Yasi    1.248274\n",
       "Name: Fur, dtype: float64"
      ]
     },
     "execution_count": 22,
     "metadata": {},
     "output_type": "execute_result"
    }
   ],
   "source": [
    "# bazi durumlarda index degerleri yanlis yazilmis olarak karsimiza gelebilir. Bunun icin index degerlerini en bastan duzeltilebiliriz\n",
    "\n",
    "# yeni index listemizi olusturalim\n",
    "newIndexList = ['Fur', 'Ham', 'Al', 'Ay']\n",
    "\n",
    "# dataFrame e bunu ekleyelim\n",
    "newDataFrame['Yeni Index'] = newIndexList\n",
    "\n",
    "# dataFrame i yazdiralim\n",
    "print(newDataFrame)\n",
    "print('\\n')\n",
    "\n",
    "# Burada bunlar index olarak degil yeni bir kolon olarak eklendi. Simdi bu sorunu set_index() ile duzletelim\n",
    "# Ana data uzeirnde degistirmek icin opsiyon olarak inplace ekliyorum\n",
    "newDataFrame.set_index('Yeni Index', inplace = True)\n",
    "print(newDataFrame)\n",
    "\n",
    "# Bakalim indexlere erisim yapabiliyor muyuz\n",
    "newDataFrame.loc['Fur']"
   ]
  },
  {
   "cell_type": "code",
   "execution_count": 23,
   "id": "9c7a2e16",
   "metadata": {},
   "outputs": [
    {
     "data": {
      "text/plain": [
       "[('sirinler', 'Guclu Sirin'),\n",
       " ('sirinler', 'Sirine'),\n",
       " ('sirinler', 'Tembel Sirin'),\n",
       " ('pokemon', 'Balbazar'),\n",
       " ('pokemon', 'Pikachu'),\n",
       " ('pokemon', 'Squirell')]"
      ]
     },
     "execution_count": 23,
     "metadata": {},
     "output_type": "execute_result"
    }
   ],
   "source": [
    "'''\n",
    "elimizde daha farkli bir veri olsun\n",
    "___________________________________\n",
    "        | guclu sirin  | 12\n",
    "sirinler| sirine       | 13\n",
    "        | tembel sirin | 15\n",
    "-----------------------------------\n",
    "        | balbazar | 32\n",
    "pokemon | pikachu  | 13\n",
    "        | squirell | 23\n",
    "___________________________________\n",
    "\n",
    "Burada gozuktu uzere [sirinler] ve [pokemon] gruplarina ait kisiler var. Simdi bunlar ile islemler yapalim\n",
    "'''\n",
    "\n",
    "# Sirinler ve pokemon icin ilkIndexler olarak tanim yapiyoruz\n",
    "ilkIndexler = ['sirinler', 'sirinler', 'sirinler', 'pokemon', 'pokemon', 'pokemon']\n",
    "\n",
    "# icerdekiler icin icIndex olusturup tanim yapiyoruz\n",
    "icIndexler = ['Guclu Sirin', 'Sirine', 'Tembel Sirin', 'Balbazar', 'Pikachu', 'Squirell']\n",
    "\n",
    "# simdi ise bu iki index'in birlesimini sonra ise datalari olusturmamiz gerekiyo\n",
    "birlesmisIndex = list(zip(ilkIndexler, icIndexler)) # zip() 2 arrayi birlestirmeye yarar\n",
    "\n",
    "birlesmisIndex"
   ]
  },
  {
   "cell_type": "code",
   "execution_count": 24,
   "id": "fb5455d4",
   "metadata": {},
   "outputs": [
    {
     "data": {
      "text/plain": [
       "MultiIndex([('sirinler',  'Guclu Sirin'),\n",
       "            ('sirinler',       'Sirine'),\n",
       "            ('sirinler', 'Tembel Sirin'),\n",
       "            ( 'pokemon',     'Balbazar'),\n",
       "            ( 'pokemon',      'Pikachu'),\n",
       "            ( 'pokemon',     'Squirell')],\n",
       "           )"
      ]
     },
     "execution_count": 24,
     "metadata": {},
     "output_type": "execute_result"
    }
   ],
   "source": [
    "# simdi bu iki degerin multi(coklu) index oldugunu tanitalim\n",
    "birlesmisIndex = pd.MultiIndex.from_tuples(birlesmisIndex)\n",
    "birlesmisIndex"
   ]
  },
  {
   "cell_type": "code",
   "execution_count": 25,
   "id": "73ee1db1",
   "metadata": {},
   "outputs": [
    {
     "data": {
      "text/html": [
       "<div>\n",
       "<style scoped>\n",
       "    .dataframe tbody tr th:only-of-type {\n",
       "        vertical-align: middle;\n",
       "    }\n",
       "\n",
       "    .dataframe tbody tr th {\n",
       "        vertical-align: top;\n",
       "    }\n",
       "\n",
       "    .dataframe thead th {\n",
       "        text-align: right;\n",
       "    }\n",
       "</style>\n",
       "<table border=\"1\" class=\"dataframe\">\n",
       "  <thead>\n",
       "    <tr style=\"text-align: right;\">\n",
       "      <th></th>\n",
       "      <th></th>\n",
       "      <th>Yas</th>\n",
       "      <th>Meslek</th>\n",
       "    </tr>\n",
       "  </thead>\n",
       "  <tbody>\n",
       "    <tr>\n",
       "      <th rowspan=\"3\" valign=\"top\">sirinler</th>\n",
       "      <th>Guclu Sirin</th>\n",
       "      <td>40</td>\n",
       "      <td>A</td>\n",
       "    </tr>\n",
       "    <tr>\n",
       "      <th>Sirine</th>\n",
       "      <td>30</td>\n",
       "      <td>B</td>\n",
       "    </tr>\n",
       "    <tr>\n",
       "      <th>Tembel Sirin</th>\n",
       "      <td>20</td>\n",
       "      <td>C</td>\n",
       "    </tr>\n",
       "    <tr>\n",
       "      <th rowspan=\"3\" valign=\"top\">pokemon</th>\n",
       "      <th>Balbazar</th>\n",
       "      <td>10</td>\n",
       "      <td>D</td>\n",
       "    </tr>\n",
       "    <tr>\n",
       "      <th>Pikachu</th>\n",
       "      <td>9</td>\n",
       "      <td>E</td>\n",
       "    </tr>\n",
       "    <tr>\n",
       "      <th>Squirell</th>\n",
       "      <td>8</td>\n",
       "      <td>F</td>\n",
       "    </tr>\n",
       "  </tbody>\n",
       "</table>\n",
       "</div>"
      ],
      "text/plain": [
       "                      Yas Meslek\n",
       "sirinler Guclu Sirin   40      A\n",
       "         Sirine        30      B\n",
       "         Tembel Sirin  20      C\n",
       "pokemon  Balbazar      10      D\n",
       "         Pikachu        9      E\n",
       "         Squirell       8      F"
      ]
     },
     "execution_count": 25,
     "metadata": {},
     "output_type": "execute_result"
    }
   ],
   "source": [
    "# verilerimizi yazalim\n",
    "myList = [[40, 'A'], [30, 'B'], [20, 'C'], [10, 'D'], [9, 'E'], [8, 'F']]\n",
    "\n",
    "# numpy dizisine cevirebiliriz dilersek\n",
    "myNpList = np.array(myList)\n",
    "\n",
    "# simdi de bunu dataFrame icine alalim\n",
    "# datamiz numpy dizisi, index degerimiz multiindex ve kolon adlari yazilsin\n",
    "myDfList = pd.DataFrame(data = myNpList, index = birlesmisIndex, columns = ['Yas', 'Meslek'])\n",
    "myDfList"
   ]
  },
  {
   "cell_type": "code",
   "execution_count": 26,
   "id": "38317b44",
   "metadata": {},
   "outputs": [
    {
     "name": "stdout",
     "output_type": "stream",
     "text": [
      "             Yas Meslek\n",
      "Guclu Sirin   40      A\n",
      "Sirine        30      B\n",
      "Tembel Sirin  20      C\n",
      "\n",
      "\n",
      "Yas       9\n",
      "Meslek    E\n",
      "Name: Pikachu, dtype: object\n",
      "\n",
      "\n"
     ]
    },
    {
     "data": {
      "text/html": [
       "<div>\n",
       "<style scoped>\n",
       "    .dataframe tbody tr th:only-of-type {\n",
       "        vertical-align: middle;\n",
       "    }\n",
       "\n",
       "    .dataframe tbody tr th {\n",
       "        vertical-align: top;\n",
       "    }\n",
       "\n",
       "    .dataframe thead th {\n",
       "        text-align: right;\n",
       "    }\n",
       "</style>\n",
       "<table border=\"1\" class=\"dataframe\">\n",
       "  <thead>\n",
       "    <tr style=\"text-align: right;\">\n",
       "      <th></th>\n",
       "      <th></th>\n",
       "      <th>Yas</th>\n",
       "      <th>Meslek</th>\n",
       "    </tr>\n",
       "    <tr>\n",
       "      <th>Film Ad</th>\n",
       "      <th>Karakter</th>\n",
       "      <th></th>\n",
       "      <th></th>\n",
       "    </tr>\n",
       "  </thead>\n",
       "  <tbody>\n",
       "    <tr>\n",
       "      <th rowspan=\"3\" valign=\"top\">sirinler</th>\n",
       "      <th>Guclu Sirin</th>\n",
       "      <td>40</td>\n",
       "      <td>A</td>\n",
       "    </tr>\n",
       "    <tr>\n",
       "      <th>Sirine</th>\n",
       "      <td>30</td>\n",
       "      <td>B</td>\n",
       "    </tr>\n",
       "    <tr>\n",
       "      <th>Tembel Sirin</th>\n",
       "      <td>20</td>\n",
       "      <td>C</td>\n",
       "    </tr>\n",
       "    <tr>\n",
       "      <th rowspan=\"3\" valign=\"top\">pokemon</th>\n",
       "      <th>Balbazar</th>\n",
       "      <td>10</td>\n",
       "      <td>D</td>\n",
       "    </tr>\n",
       "    <tr>\n",
       "      <th>Pikachu</th>\n",
       "      <td>9</td>\n",
       "      <td>E</td>\n",
       "    </tr>\n",
       "    <tr>\n",
       "      <th>Squirell</th>\n",
       "      <td>8</td>\n",
       "      <td>F</td>\n",
       "    </tr>\n",
       "  </tbody>\n",
       "</table>\n",
       "</div>"
      ],
      "text/plain": [
       "                      Yas Meslek\n",
       "Film Ad  Karakter               \n",
       "sirinler Guclu Sirin   40      A\n",
       "         Sirine        30      B\n",
       "         Tembel Sirin  20      C\n",
       "pokemon  Balbazar      10      D\n",
       "         Pikachu        9      E\n",
       "         Squirell       8      F"
      ]
     },
     "execution_count": 26,
     "metadata": {},
     "output_type": "execute_result"
    }
   ],
   "source": [
    "# simdi biraz da verilere erisim icin bu dataFrame i biraz kurcalayalim\n",
    "print(myDfList.loc['sirinler'])\n",
    "print('\\n')\n",
    "\n",
    "print(myDfList.loc['pokemon'].loc['Pikachu'])\n",
    "print('\\n')\n",
    "\n",
    "# dilersek indexlere de baslik ekleyebiliriz\n",
    "myDfList.index.names = ['Film Ad', 'Karakter']\n",
    "myDfList"
   ]
  },
  {
   "cell_type": "markdown",
   "id": "198ba55c",
   "metadata": {},
   "source": [
    "## Bu kisimdan sonrasi daha cok pratik ve kisayol fonksiyonlar ile alakali"
   ]
  },
  {
   "cell_type": "markdown",
   "id": "937a17d1",
   "metadata": {},
   "source": [
    "# Operasyonlar"
   ]
  },
  {
   "cell_type": "markdown",
   "id": "495ca4b8",
   "metadata": {},
   "source": [
    "### Eksik Veri"
   ]
  },
  {
   "cell_type": "code",
   "execution_count": 27,
   "id": "c4cce8e9",
   "metadata": {},
   "outputs": [],
   "source": [
    "# veri olusturalim\n",
    "sozlukVerisi = {'Istanbul' : [30,29,np.nan], 'Ankara' : [20,np.nan,29], 'Izmir' : [40,39,38]} # np.nan ifadesi bos oldugu anlamina gelir\n",
    "havaDurumuDataFrame = pd.DataFrame(sozlukVerisi)"
   ]
  },
  {
   "cell_type": "code",
   "execution_count": 28,
   "id": "d3de9caf",
   "metadata": {},
   "outputs": [
    {
     "data": {
      "text/html": [
       "<div>\n",
       "<style scoped>\n",
       "    .dataframe tbody tr th:only-of-type {\n",
       "        vertical-align: middle;\n",
       "    }\n",
       "\n",
       "    .dataframe tbody tr th {\n",
       "        vertical-align: top;\n",
       "    }\n",
       "\n",
       "    .dataframe thead th {\n",
       "        text-align: right;\n",
       "    }\n",
       "</style>\n",
       "<table border=\"1\" class=\"dataframe\">\n",
       "  <thead>\n",
       "    <tr style=\"text-align: right;\">\n",
       "      <th></th>\n",
       "      <th>Istanbul</th>\n",
       "      <th>Ankara</th>\n",
       "      <th>Izmir</th>\n",
       "    </tr>\n",
       "  </thead>\n",
       "  <tbody>\n",
       "    <tr>\n",
       "      <th>0</th>\n",
       "      <td>30.0</td>\n",
       "      <td>20.0</td>\n",
       "      <td>40</td>\n",
       "    </tr>\n",
       "    <tr>\n",
       "      <th>1</th>\n",
       "      <td>29.0</td>\n",
       "      <td>NaN</td>\n",
       "      <td>39</td>\n",
       "    </tr>\n",
       "    <tr>\n",
       "      <th>2</th>\n",
       "      <td>NaN</td>\n",
       "      <td>29.0</td>\n",
       "      <td>38</td>\n",
       "    </tr>\n",
       "  </tbody>\n",
       "</table>\n",
       "</div>"
      ],
      "text/plain": [
       "   Istanbul  Ankara  Izmir\n",
       "0      30.0    20.0     40\n",
       "1      29.0     NaN     39\n",
       "2       NaN    29.0     38"
      ]
     },
     "execution_count": 28,
     "metadata": {},
     "output_type": "execute_result"
    }
   ],
   "source": [
    "havaDurumuDataFrame"
   ]
  },
  {
   "cell_type": "code",
   "execution_count": 29,
   "id": "3786850a",
   "metadata": {},
   "outputs": [
    {
     "data": {
      "text/html": [
       "<div>\n",
       "<style scoped>\n",
       "    .dataframe tbody tr th:only-of-type {\n",
       "        vertical-align: middle;\n",
       "    }\n",
       "\n",
       "    .dataframe tbody tr th {\n",
       "        vertical-align: top;\n",
       "    }\n",
       "\n",
       "    .dataframe thead th {\n",
       "        text-align: right;\n",
       "    }\n",
       "</style>\n",
       "<table border=\"1\" class=\"dataframe\">\n",
       "  <thead>\n",
       "    <tr style=\"text-align: right;\">\n",
       "      <th></th>\n",
       "      <th>Istanbul</th>\n",
       "      <th>Ankara</th>\n",
       "      <th>Izmir</th>\n",
       "    </tr>\n",
       "  </thead>\n",
       "  <tbody>\n",
       "    <tr>\n",
       "      <th>0</th>\n",
       "      <td>30.0</td>\n",
       "      <td>20.0</td>\n",
       "      <td>40</td>\n",
       "    </tr>\n",
       "  </tbody>\n",
       "</table>\n",
       "</div>"
      ],
      "text/plain": [
       "   Istanbul  Ankara  Izmir\n",
       "0      30.0    20.0     40"
      ]
     },
     "execution_count": 29,
     "metadata": {},
     "output_type": "execute_result"
    }
   ],
   "source": [
    "# olmayan verileri silebiliriz\n",
    "# dropna() ile eger bir satir da veri yoksa o satiri komple siler\n",
    "havaDurumuDataFrame.dropna()"
   ]
  },
  {
   "cell_type": "code",
   "execution_count": 30,
   "id": "67bccc74",
   "metadata": {},
   "outputs": [
    {
     "data": {
      "text/html": [
       "<div>\n",
       "<style scoped>\n",
       "    .dataframe tbody tr th:only-of-type {\n",
       "        vertical-align: middle;\n",
       "    }\n",
       "\n",
       "    .dataframe tbody tr th {\n",
       "        vertical-align: top;\n",
       "    }\n",
       "\n",
       "    .dataframe thead th {\n",
       "        text-align: right;\n",
       "    }\n",
       "</style>\n",
       "<table border=\"1\" class=\"dataframe\">\n",
       "  <thead>\n",
       "    <tr style=\"text-align: right;\">\n",
       "      <th></th>\n",
       "      <th>Izmir</th>\n",
       "    </tr>\n",
       "  </thead>\n",
       "  <tbody>\n",
       "    <tr>\n",
       "      <th>0</th>\n",
       "      <td>40</td>\n",
       "    </tr>\n",
       "    <tr>\n",
       "      <th>1</th>\n",
       "      <td>39</td>\n",
       "    </tr>\n",
       "    <tr>\n",
       "      <th>2</th>\n",
       "      <td>38</td>\n",
       "    </tr>\n",
       "  </tbody>\n",
       "</table>\n",
       "</div>"
      ],
      "text/plain": [
       "   Izmir\n",
       "0     40\n",
       "1     39\n",
       "2     38"
      ]
     },
     "execution_count": 30,
     "metadata": {},
     "output_type": "execute_result"
    }
   ],
   "source": [
    "# dropna() icine axis degerini belirterek satir mi sutun mu silecegimiz belirtebiliriz\n",
    "havaDurumuDataFrame.dropna(axis = 1)"
   ]
  },
  {
   "cell_type": "code",
   "execution_count": 31,
   "id": "87fd91f8",
   "metadata": {},
   "outputs": [
    {
     "data": {
      "text/html": [
       "<div>\n",
       "<style scoped>\n",
       "    .dataframe tbody tr th:only-of-type {\n",
       "        vertical-align: middle;\n",
       "    }\n",
       "\n",
       "    .dataframe tbody tr th {\n",
       "        vertical-align: top;\n",
       "    }\n",
       "\n",
       "    .dataframe thead th {\n",
       "        text-align: right;\n",
       "    }\n",
       "</style>\n",
       "<table border=\"1\" class=\"dataframe\">\n",
       "  <thead>\n",
       "    <tr style=\"text-align: right;\">\n",
       "      <th></th>\n",
       "      <th>Istanbul</th>\n",
       "      <th>Ankara</th>\n",
       "      <th>Izmir</th>\n",
       "      <th>Antalya</th>\n",
       "    </tr>\n",
       "  </thead>\n",
       "  <tbody>\n",
       "    <tr>\n",
       "      <th>0</th>\n",
       "      <td>30.0</td>\n",
       "      <td>20.0</td>\n",
       "      <td>40</td>\n",
       "      <td>45.0</td>\n",
       "    </tr>\n",
       "    <tr>\n",
       "      <th>1</th>\n",
       "      <td>29.0</td>\n",
       "      <td>NaN</td>\n",
       "      <td>39</td>\n",
       "      <td>NaN</td>\n",
       "    </tr>\n",
       "    <tr>\n",
       "      <th>2</th>\n",
       "      <td>NaN</td>\n",
       "      <td>29.0</td>\n",
       "      <td>38</td>\n",
       "      <td>NaN</td>\n",
       "    </tr>\n",
       "  </tbody>\n",
       "</table>\n",
       "</div>"
      ],
      "text/plain": [
       "   Istanbul  Ankara  Izmir  Antalya\n",
       "0      30.0    20.0     40     45.0\n",
       "1      29.0     NaN     39      NaN\n",
       "2       NaN    29.0     38      NaN"
      ]
     },
     "execution_count": 31,
     "metadata": {},
     "output_type": "execute_result"
    }
   ],
   "source": [
    "# once 2 nan bulunan yeni veri olusturalim \n",
    "yeniVeri = {'Istanbul' : [30,29,np.nan], 'Ankara' : [20,np.nan,29], 'Izmir' : [40,39,38], 'Antalya' : [45,np.nan,np.nan]} # np.nan ifadesi bos oldugu anlamina gelir\n",
    "yeniHavaDurumuDataFrame = pd.DataFrame(yeniVeri)\n",
    "\n",
    "yeniHavaDurumuDataFrame"
   ]
  },
  {
   "cell_type": "code",
   "execution_count": 32,
   "id": "5bd8763b",
   "metadata": {},
   "outputs": [
    {
     "data": {
      "text/html": [
       "<div>\n",
       "<style scoped>\n",
       "    .dataframe tbody tr th:only-of-type {\n",
       "        vertical-align: middle;\n",
       "    }\n",
       "\n",
       "    .dataframe tbody tr th {\n",
       "        vertical-align: top;\n",
       "    }\n",
       "\n",
       "    .dataframe thead th {\n",
       "        text-align: right;\n",
       "    }\n",
       "</style>\n",
       "<table border=\"1\" class=\"dataframe\">\n",
       "  <thead>\n",
       "    <tr style=\"text-align: right;\">\n",
       "      <th></th>\n",
       "      <th>Istanbul</th>\n",
       "      <th>Ankara</th>\n",
       "      <th>Izmir</th>\n",
       "    </tr>\n",
       "  </thead>\n",
       "  <tbody>\n",
       "    <tr>\n",
       "      <th>0</th>\n",
       "      <td>30.0</td>\n",
       "      <td>20.0</td>\n",
       "      <td>40</td>\n",
       "    </tr>\n",
       "    <tr>\n",
       "      <th>1</th>\n",
       "      <td>29.0</td>\n",
       "      <td>NaN</td>\n",
       "      <td>39</td>\n",
       "    </tr>\n",
       "    <tr>\n",
       "      <th>2</th>\n",
       "      <td>NaN</td>\n",
       "      <td>29.0</td>\n",
       "      <td>38</td>\n",
       "    </tr>\n",
       "  </tbody>\n",
       "</table>\n",
       "</div>"
      ],
      "text/plain": [
       "   Istanbul  Ankara  Izmir\n",
       "0      30.0    20.0     40\n",
       "1      29.0     NaN     39\n",
       "2       NaN    29.0     38"
      ]
     },
     "execution_count": 32,
     "metadata": {},
     "output_type": "execute_result"
    }
   ],
   "source": [
    "# belirtilen kosulda ve sayida nan varsa silsin ama 1 tane varsa silmesin\n",
    "# thresh = x, x veri ve uzeri sayida varsa silsin (axis = 1 dedik ve sutundaki 2 ve ustu eksikleri silecek yani Antalya)\n",
    "yeniHavaDurumuDataFrame.dropna(axis = 1, thresh = 2)"
   ]
  },
  {
   "cell_type": "code",
   "execution_count": 33,
   "id": "d06fad31",
   "metadata": {},
   "outputs": [
    {
     "data": {
      "text/html": [
       "<div>\n",
       "<style scoped>\n",
       "    .dataframe tbody tr th:only-of-type {\n",
       "        vertical-align: middle;\n",
       "    }\n",
       "\n",
       "    .dataframe tbody tr th {\n",
       "        vertical-align: top;\n",
       "    }\n",
       "\n",
       "    .dataframe thead th {\n",
       "        text-align: right;\n",
       "    }\n",
       "</style>\n",
       "<table border=\"1\" class=\"dataframe\">\n",
       "  <thead>\n",
       "    <tr style=\"text-align: right;\">\n",
       "      <th></th>\n",
       "      <th>Istanbul</th>\n",
       "      <th>Ankara</th>\n",
       "      <th>Izmir</th>\n",
       "      <th>Antalya</th>\n",
       "    </tr>\n",
       "  </thead>\n",
       "  <tbody>\n",
       "    <tr>\n",
       "      <th>0</th>\n",
       "      <td>30.0</td>\n",
       "      <td>20.0</td>\n",
       "      <td>40</td>\n",
       "      <td>45.0</td>\n",
       "    </tr>\n",
       "    <tr>\n",
       "      <th>1</th>\n",
       "      <td>29.0</td>\n",
       "      <td>10.0</td>\n",
       "      <td>39</td>\n",
       "      <td>10.0</td>\n",
       "    </tr>\n",
       "    <tr>\n",
       "      <th>2</th>\n",
       "      <td>10.0</td>\n",
       "      <td>29.0</td>\n",
       "      <td>38</td>\n",
       "      <td>10.0</td>\n",
       "    </tr>\n",
       "  </tbody>\n",
       "</table>\n",
       "</div>"
      ],
      "text/plain": [
       "   Istanbul  Ankara  Izmir  Antalya\n",
       "0      30.0    20.0     40     45.0\n",
       "1      29.0    10.0     39     10.0\n",
       "2      10.0    29.0     38     10.0"
      ]
     },
     "execution_count": 33,
     "metadata": {},
     "output_type": "execute_result"
    }
   ],
   "source": [
    "# nan olan her yere bir veri atayabiliriz istersek. Bunun icin fillna() kullanilir\n",
    "# nan olan her yere 10 atayalim\n",
    "yeniHavaDurumuDataFrame.fillna(10)"
   ]
  },
  {
   "cell_type": "markdown",
   "id": "6106fe69",
   "metadata": {},
   "source": [
    "### groupby() = gruplama icin kullancaz"
   ]
  },
  {
   "cell_type": "code",
   "execution_count": 34,
   "id": "2aa6a139",
   "metadata": {},
   "outputs": [
    {
     "data": {
      "text/html": [
       "<div>\n",
       "<style scoped>\n",
       "    .dataframe tbody tr th:only-of-type {\n",
       "        vertical-align: middle;\n",
       "    }\n",
       "\n",
       "    .dataframe tbody tr th {\n",
       "        vertical-align: top;\n",
       "    }\n",
       "\n",
       "    .dataframe thead th {\n",
       "        text-align: right;\n",
       "    }\n",
       "</style>\n",
       "<table border=\"1\" class=\"dataframe\">\n",
       "  <thead>\n",
       "    <tr style=\"text-align: right;\">\n",
       "      <th></th>\n",
       "      <th>Departmanlar</th>\n",
       "      <th>Calisan Ismi</th>\n",
       "      <th>Maas</th>\n",
       "    </tr>\n",
       "  </thead>\n",
       "  <tbody>\n",
       "    <tr>\n",
       "      <th>0</th>\n",
       "      <td>Yazilim</td>\n",
       "      <td>Ahmet</td>\n",
       "      <td>100</td>\n",
       "    </tr>\n",
       "    <tr>\n",
       "      <th>1</th>\n",
       "      <td>Yazilim</td>\n",
       "      <td>Mehmet</td>\n",
       "      <td>150</td>\n",
       "    </tr>\n",
       "    <tr>\n",
       "      <th>2</th>\n",
       "      <td>Pazarlama</td>\n",
       "      <td>Furkan</td>\n",
       "      <td>200</td>\n",
       "    </tr>\n",
       "    <tr>\n",
       "      <th>3</th>\n",
       "      <td>Pazarlama</td>\n",
       "      <td>Hamza</td>\n",
       "      <td>250</td>\n",
       "    </tr>\n",
       "    <tr>\n",
       "      <th>4</th>\n",
       "      <td>Hukuk</td>\n",
       "      <td>Zeynep</td>\n",
       "      <td>400</td>\n",
       "    </tr>\n",
       "    <tr>\n",
       "      <th>5</th>\n",
       "      <td>Hukuk</td>\n",
       "      <td>Fatma</td>\n",
       "      <td>500</td>\n",
       "    </tr>\n",
       "  </tbody>\n",
       "</table>\n",
       "</div>"
      ],
      "text/plain": [
       "  Departmanlar Calisan Ismi  Maas\n",
       "0      Yazilim        Ahmet   100\n",
       "1      Yazilim       Mehmet   150\n",
       "2    Pazarlama       Furkan   200\n",
       "3    Pazarlama        Hamza   250\n",
       "4        Hukuk       Zeynep   400\n",
       "5        Hukuk        Fatma   500"
      ]
     },
     "execution_count": 34,
     "metadata": {},
     "output_type": "execute_result"
    }
   ],
   "source": [
    "# bir data olusturalim\n",
    "maasSozlugu = {'Departmanlar' : ['Yazilim', 'Yazilim', 'Pazarlama', 'Pazarlama', 'Hukuk', 'Hukuk'],\n",
    "               'Calisan Ismi' : ['Ahmet', 'Mehmet', 'Furkan', 'Hamza', 'Zeynep', 'Fatma'],\n",
    "               'Maas' : [100, 150, 200, 250, 400, 500]\n",
    "              }\n",
    "\n",
    "# datayi dataFrame cevirelim\n",
    "maasDataFrame = pd.DataFrame(maasSozlugu)\n",
    "maasDataFrame"
   ]
  },
  {
   "cell_type": "code",
   "execution_count": 35,
   "id": "41bdc48a",
   "metadata": {},
   "outputs": [],
   "source": [
    "# ayni departmanda calisanlari kendi icinde gruplandiralim\n",
    "# group bu neye gore gruplamasi gerektigi yazilir\n",
    "grupObjesi = maasDataFrame.groupby('Departmanlar')"
   ]
  },
  {
   "cell_type": "code",
   "execution_count": 36,
   "id": "94530995",
   "metadata": {},
   "outputs": [
    {
     "data": {
      "text/html": [
       "<div>\n",
       "<style scoped>\n",
       "    .dataframe tbody tr th:only-of-type {\n",
       "        vertical-align: middle;\n",
       "    }\n",
       "\n",
       "    .dataframe tbody tr th {\n",
       "        vertical-align: top;\n",
       "    }\n",
       "\n",
       "    .dataframe thead th {\n",
       "        text-align: right;\n",
       "    }\n",
       "</style>\n",
       "<table border=\"1\" class=\"dataframe\">\n",
       "  <thead>\n",
       "    <tr style=\"text-align: right;\">\n",
       "      <th></th>\n",
       "      <th>Calisan Ismi</th>\n",
       "      <th>Maas</th>\n",
       "    </tr>\n",
       "    <tr>\n",
       "      <th>Departmanlar</th>\n",
       "      <th></th>\n",
       "      <th></th>\n",
       "    </tr>\n",
       "  </thead>\n",
       "  <tbody>\n",
       "    <tr>\n",
       "      <th>Hukuk</th>\n",
       "      <td>2</td>\n",
       "      <td>2</td>\n",
       "    </tr>\n",
       "    <tr>\n",
       "      <th>Pazarlama</th>\n",
       "      <td>2</td>\n",
       "      <td>2</td>\n",
       "    </tr>\n",
       "    <tr>\n",
       "      <th>Yazilim</th>\n",
       "      <td>2</td>\n",
       "      <td>2</td>\n",
       "    </tr>\n",
       "  </tbody>\n",
       "</table>\n",
       "</div>"
      ],
      "text/plain": [
       "              Calisan Ismi  Maas\n",
       "Departmanlar                    \n",
       "Hukuk                    2     2\n",
       "Pazarlama                2     2\n",
       "Yazilim                  2     2"
      ]
     },
     "execution_count": 36,
     "metadata": {},
     "output_type": "execute_result"
    }
   ],
   "source": [
    "# simdi olusturdugumuz grupObjesi isimli degiskenle neler yapilabildigine bakalim\n",
    "# hangi departmanda kac kisi calisiyor\n",
    "grupObjesi.count()"
   ]
  },
  {
   "cell_type": "code",
   "execution_count": 37,
   "id": "25fcfda4",
   "metadata": {},
   "outputs": [
    {
     "data": {
      "text/html": [
       "<div>\n",
       "<style scoped>\n",
       "    .dataframe tbody tr th:only-of-type {\n",
       "        vertical-align: middle;\n",
       "    }\n",
       "\n",
       "    .dataframe tbody tr th {\n",
       "        vertical-align: top;\n",
       "    }\n",
       "\n",
       "    .dataframe thead th {\n",
       "        text-align: right;\n",
       "    }\n",
       "</style>\n",
       "<table border=\"1\" class=\"dataframe\">\n",
       "  <thead>\n",
       "    <tr style=\"text-align: right;\">\n",
       "      <th></th>\n",
       "      <th>Maas</th>\n",
       "    </tr>\n",
       "    <tr>\n",
       "      <th>Departmanlar</th>\n",
       "      <th></th>\n",
       "    </tr>\n",
       "  </thead>\n",
       "  <tbody>\n",
       "    <tr>\n",
       "      <th>Hukuk</th>\n",
       "      <td>450.0</td>\n",
       "    </tr>\n",
       "    <tr>\n",
       "      <th>Pazarlama</th>\n",
       "      <td>225.0</td>\n",
       "    </tr>\n",
       "    <tr>\n",
       "      <th>Yazilim</th>\n",
       "      <td>125.0</td>\n",
       "    </tr>\n",
       "  </tbody>\n",
       "</table>\n",
       "</div>"
      ],
      "text/plain": [
       "               Maas\n",
       "Departmanlar       \n",
       "Hukuk         450.0\n",
       "Pazarlama     225.0\n",
       "Yazilim       125.0"
      ]
     },
     "execution_count": 37,
     "metadata": {},
     "output_type": "execute_result"
    }
   ],
   "source": [
    "# departmandakilerin ortalama maasi\n",
    "grupObjesi.mean()"
   ]
  },
  {
   "cell_type": "code",
   "execution_count": 38,
   "id": "d85a36aa",
   "metadata": {},
   "outputs": [
    {
     "data": {
      "text/html": [
       "<div>\n",
       "<style scoped>\n",
       "    .dataframe tbody tr th:only-of-type {\n",
       "        vertical-align: middle;\n",
       "    }\n",
       "\n",
       "    .dataframe tbody tr th {\n",
       "        vertical-align: top;\n",
       "    }\n",
       "\n",
       "    .dataframe thead th {\n",
       "        text-align: right;\n",
       "    }\n",
       "</style>\n",
       "<table border=\"1\" class=\"dataframe\">\n",
       "  <thead>\n",
       "    <tr style=\"text-align: right;\">\n",
       "      <th></th>\n",
       "      <th>Calisan Ismi</th>\n",
       "      <th>Maas</th>\n",
       "    </tr>\n",
       "    <tr>\n",
       "      <th>Departmanlar</th>\n",
       "      <th></th>\n",
       "      <th></th>\n",
       "    </tr>\n",
       "  </thead>\n",
       "  <tbody>\n",
       "    <tr>\n",
       "      <th>Hukuk</th>\n",
       "      <td>Zeynep</td>\n",
       "      <td>500</td>\n",
       "    </tr>\n",
       "    <tr>\n",
       "      <th>Pazarlama</th>\n",
       "      <td>Hamza</td>\n",
       "      <td>250</td>\n",
       "    </tr>\n",
       "    <tr>\n",
       "      <th>Yazilim</th>\n",
       "      <td>Mehmet</td>\n",
       "      <td>150</td>\n",
       "    </tr>\n",
       "  </tbody>\n",
       "</table>\n",
       "</div>"
      ],
      "text/plain": [
       "             Calisan Ismi  Maas\n",
       "Departmanlar                   \n",
       "Hukuk              Zeynep   500\n",
       "Pazarlama           Hamza   250\n",
       "Yazilim            Mehmet   150"
      ]
     },
     "execution_count": 38,
     "metadata": {},
     "output_type": "execute_result"
    }
   ],
   "source": [
    "# max maaslar\n",
    "grupObjesi.max()"
   ]
  },
  {
   "cell_type": "code",
   "execution_count": 39,
   "id": "1def1c55",
   "metadata": {},
   "outputs": [
    {
     "data": {
      "text/html": [
       "<div>\n",
       "<style scoped>\n",
       "    .dataframe tbody tr th:only-of-type {\n",
       "        vertical-align: middle;\n",
       "    }\n",
       "\n",
       "    .dataframe tbody tr th {\n",
       "        vertical-align: top;\n",
       "    }\n",
       "\n",
       "    .dataframe thead th {\n",
       "        text-align: right;\n",
       "    }\n",
       "</style>\n",
       "<table border=\"1\" class=\"dataframe\">\n",
       "  <thead>\n",
       "    <tr style=\"text-align: right;\">\n",
       "      <th></th>\n",
       "      <th>Calisan Ismi</th>\n",
       "      <th>Maas</th>\n",
       "    </tr>\n",
       "    <tr>\n",
       "      <th>Departmanlar</th>\n",
       "      <th></th>\n",
       "      <th></th>\n",
       "    </tr>\n",
       "  </thead>\n",
       "  <tbody>\n",
       "    <tr>\n",
       "      <th>Hukuk</th>\n",
       "      <td>Fatma</td>\n",
       "      <td>400</td>\n",
       "    </tr>\n",
       "    <tr>\n",
       "      <th>Pazarlama</th>\n",
       "      <td>Furkan</td>\n",
       "      <td>200</td>\n",
       "    </tr>\n",
       "    <tr>\n",
       "      <th>Yazilim</th>\n",
       "      <td>Ahmet</td>\n",
       "      <td>100</td>\n",
       "    </tr>\n",
       "  </tbody>\n",
       "</table>\n",
       "</div>"
      ],
      "text/plain": [
       "             Calisan Ismi  Maas\n",
       "Departmanlar                   \n",
       "Hukuk               Fatma   400\n",
       "Pazarlama          Furkan   200\n",
       "Yazilim             Ahmet   100"
      ]
     },
     "execution_count": 39,
     "metadata": {},
     "output_type": "execute_result"
    }
   ],
   "source": [
    "# min maaslar\n",
    "grupObjesi.min()"
   ]
  },
  {
   "cell_type": "code",
   "execution_count": 40,
   "id": "0fc53fc3",
   "metadata": {},
   "outputs": [
    {
     "data": {
      "text/html": [
       "<div>\n",
       "<style scoped>\n",
       "    .dataframe tbody tr th:only-of-type {\n",
       "        vertical-align: middle;\n",
       "    }\n",
       "\n",
       "    .dataframe tbody tr th {\n",
       "        vertical-align: top;\n",
       "    }\n",
       "\n",
       "    .dataframe thead tr th {\n",
       "        text-align: left;\n",
       "    }\n",
       "\n",
       "    .dataframe thead tr:last-of-type th {\n",
       "        text-align: right;\n",
       "    }\n",
       "</style>\n",
       "<table border=\"1\" class=\"dataframe\">\n",
       "  <thead>\n",
       "    <tr>\n",
       "      <th></th>\n",
       "      <th colspan=\"8\" halign=\"left\">Maas</th>\n",
       "    </tr>\n",
       "    <tr>\n",
       "      <th></th>\n",
       "      <th>count</th>\n",
       "      <th>mean</th>\n",
       "      <th>std</th>\n",
       "      <th>min</th>\n",
       "      <th>25%</th>\n",
       "      <th>50%</th>\n",
       "      <th>75%</th>\n",
       "      <th>max</th>\n",
       "    </tr>\n",
       "    <tr>\n",
       "      <th>Departmanlar</th>\n",
       "      <th></th>\n",
       "      <th></th>\n",
       "      <th></th>\n",
       "      <th></th>\n",
       "      <th></th>\n",
       "      <th></th>\n",
       "      <th></th>\n",
       "      <th></th>\n",
       "    </tr>\n",
       "  </thead>\n",
       "  <tbody>\n",
       "    <tr>\n",
       "      <th>Hukuk</th>\n",
       "      <td>2.0</td>\n",
       "      <td>450.0</td>\n",
       "      <td>70.710678</td>\n",
       "      <td>400.0</td>\n",
       "      <td>425.0</td>\n",
       "      <td>450.0</td>\n",
       "      <td>475.0</td>\n",
       "      <td>500.0</td>\n",
       "    </tr>\n",
       "    <tr>\n",
       "      <th>Pazarlama</th>\n",
       "      <td>2.0</td>\n",
       "      <td>225.0</td>\n",
       "      <td>35.355339</td>\n",
       "      <td>200.0</td>\n",
       "      <td>212.5</td>\n",
       "      <td>225.0</td>\n",
       "      <td>237.5</td>\n",
       "      <td>250.0</td>\n",
       "    </tr>\n",
       "    <tr>\n",
       "      <th>Yazilim</th>\n",
       "      <td>2.0</td>\n",
       "      <td>125.0</td>\n",
       "      <td>35.355339</td>\n",
       "      <td>100.0</td>\n",
       "      <td>112.5</td>\n",
       "      <td>125.0</td>\n",
       "      <td>137.5</td>\n",
       "      <td>150.0</td>\n",
       "    </tr>\n",
       "  </tbody>\n",
       "</table>\n",
       "</div>"
      ],
      "text/plain": [
       "              Maas                                                     \n",
       "             count   mean        std    min    25%    50%    75%    max\n",
       "Departmanlar                                                           \n",
       "Hukuk          2.0  450.0  70.710678  400.0  425.0  450.0  475.0  500.0\n",
       "Pazarlama      2.0  225.0  35.355339  200.0  212.5  225.0  237.5  250.0\n",
       "Yazilim        2.0  125.0  35.355339  100.0  112.5  125.0  137.5  150.0"
      ]
     },
     "execution_count": 40,
     "metadata": {},
     "output_type": "execute_result"
    }
   ],
   "source": [
    "# data hakkindaki tum veriler\n",
    "grupObjesi.describe()"
   ]
  },
  {
   "cell_type": "markdown",
   "id": "d269c8c4",
   "metadata": {},
   "source": [
    "### concat() = veri birlestirme"
   ]
  },
  {
   "cell_type": "code",
   "execution_count": 41,
   "id": "36ec9064",
   "metadata": {},
   "outputs": [],
   "source": [
    "# 3 farkli yerden data gelsin. Ve bunlari birlestirip tek bir dataFrame yapalim\n",
    "sozluk1 = {'Isim' : ['Ahmet', 'Mehmet', 'Zeynep', 'Atil'],\n",
    "           'Spor' : ['Kosu', 'Yuzme', 'Kosu', 'Basketbol'],\n",
    "           'Kalori' : [100, 200, 300, 400]\n",
    "          }\n",
    "\n",
    "sozluk2 = {'Isim' : ['Osman', 'Levent', 'Furkan', 'Fatma'],\n",
    "           'Spor' : ['Kosu', 'Yuzme', 'Kosu', 'Basketbol'],\n",
    "           'Kalori' : [150, 260, 320, 410]\n",
    "          }\n",
    "\n",
    "sozluk3 = {'Isim' : ['Hamza', 'Betul', 'Duygu', 'Ayse'],\n",
    "           'Spor' : ['Kosu', 'Yuzme', 'Badminton', 'Tenis'],\n",
    "           'Kalori' : [101, 203, 305, 407]\n",
    "          }\n",
    "\n",
    "# bunlari dataFrame e atalim\n",
    "dataFrame1 = pd.DataFrame(data = sozluk1, index = [0,1,2,3])\n",
    "dataFrame2 = pd.DataFrame(data = sozluk2, index = [4,5,6,7])\n",
    "dataFrame3 = pd.DataFrame(data = sozluk1, index = [8,9,10,11])"
   ]
  },
  {
   "cell_type": "code",
   "execution_count": 42,
   "id": "968b0a1f",
   "metadata": {},
   "outputs": [
    {
     "name": "stdout",
     "output_type": "stream",
     "text": [
      "     Isim       Spor  Kalori\n",
      "0   Ahmet       Kosu     100\n",
      "1  Mehmet      Yuzme     200\n",
      "2  Zeynep       Kosu     300\n",
      "3    Atil  Basketbol     400\n",
      "\n",
      "\n",
      "     Isim       Spor  Kalori\n",
      "4   Osman       Kosu     150\n",
      "5  Levent      Yuzme     260\n",
      "6  Furkan       Kosu     320\n",
      "7   Fatma  Basketbol     410\n",
      "\n",
      "\n",
      "      Isim       Spor  Kalori\n",
      "8    Ahmet       Kosu     100\n",
      "9   Mehmet      Yuzme     200\n",
      "10  Zeynep       Kosu     300\n",
      "11    Atil  Basketbol     400\n"
     ]
    }
   ],
   "source": [
    "# datalarimizi gorelim\n",
    "print(dataFrame1)\n",
    "print('\\n')\n",
    "print(dataFrame2)\n",
    "print('\\n')\n",
    "print(dataFrame3)"
   ]
  },
  {
   "cell_type": "code",
   "execution_count": 43,
   "id": "a5a072e6",
   "metadata": {},
   "outputs": [
    {
     "data": {
      "text/html": [
       "<div>\n",
       "<style scoped>\n",
       "    .dataframe tbody tr th:only-of-type {\n",
       "        vertical-align: middle;\n",
       "    }\n",
       "\n",
       "    .dataframe tbody tr th {\n",
       "        vertical-align: top;\n",
       "    }\n",
       "\n",
       "    .dataframe thead th {\n",
       "        text-align: right;\n",
       "    }\n",
       "</style>\n",
       "<table border=\"1\" class=\"dataframe\">\n",
       "  <thead>\n",
       "    <tr style=\"text-align: right;\">\n",
       "      <th></th>\n",
       "      <th>Isim</th>\n",
       "      <th>Spor</th>\n",
       "      <th>Kalori</th>\n",
       "    </tr>\n",
       "  </thead>\n",
       "  <tbody>\n",
       "    <tr>\n",
       "      <th>0</th>\n",
       "      <td>Ahmet</td>\n",
       "      <td>Kosu</td>\n",
       "      <td>100</td>\n",
       "    </tr>\n",
       "    <tr>\n",
       "      <th>1</th>\n",
       "      <td>Mehmet</td>\n",
       "      <td>Yuzme</td>\n",
       "      <td>200</td>\n",
       "    </tr>\n",
       "    <tr>\n",
       "      <th>2</th>\n",
       "      <td>Zeynep</td>\n",
       "      <td>Kosu</td>\n",
       "      <td>300</td>\n",
       "    </tr>\n",
       "    <tr>\n",
       "      <th>3</th>\n",
       "      <td>Atil</td>\n",
       "      <td>Basketbol</td>\n",
       "      <td>400</td>\n",
       "    </tr>\n",
       "    <tr>\n",
       "      <th>4</th>\n",
       "      <td>Osman</td>\n",
       "      <td>Kosu</td>\n",
       "      <td>150</td>\n",
       "    </tr>\n",
       "    <tr>\n",
       "      <th>5</th>\n",
       "      <td>Levent</td>\n",
       "      <td>Yuzme</td>\n",
       "      <td>260</td>\n",
       "    </tr>\n",
       "    <tr>\n",
       "      <th>6</th>\n",
       "      <td>Furkan</td>\n",
       "      <td>Kosu</td>\n",
       "      <td>320</td>\n",
       "    </tr>\n",
       "    <tr>\n",
       "      <th>7</th>\n",
       "      <td>Fatma</td>\n",
       "      <td>Basketbol</td>\n",
       "      <td>410</td>\n",
       "    </tr>\n",
       "    <tr>\n",
       "      <th>8</th>\n",
       "      <td>Ahmet</td>\n",
       "      <td>Kosu</td>\n",
       "      <td>100</td>\n",
       "    </tr>\n",
       "    <tr>\n",
       "      <th>9</th>\n",
       "      <td>Mehmet</td>\n",
       "      <td>Yuzme</td>\n",
       "      <td>200</td>\n",
       "    </tr>\n",
       "    <tr>\n",
       "      <th>10</th>\n",
       "      <td>Zeynep</td>\n",
       "      <td>Kosu</td>\n",
       "      <td>300</td>\n",
       "    </tr>\n",
       "    <tr>\n",
       "      <th>11</th>\n",
       "      <td>Atil</td>\n",
       "      <td>Basketbol</td>\n",
       "      <td>400</td>\n",
       "    </tr>\n",
       "  </tbody>\n",
       "</table>\n",
       "</div>"
      ],
      "text/plain": [
       "      Isim       Spor  Kalori\n",
       "0    Ahmet       Kosu     100\n",
       "1   Mehmet      Yuzme     200\n",
       "2   Zeynep       Kosu     300\n",
       "3     Atil  Basketbol     400\n",
       "4    Osman       Kosu     150\n",
       "5   Levent      Yuzme     260\n",
       "6   Furkan       Kosu     320\n",
       "7    Fatma  Basketbol     410\n",
       "8    Ahmet       Kosu     100\n",
       "9   Mehmet      Yuzme     200\n",
       "10  Zeynep       Kosu     300\n",
       "11    Atil  Basketbol     400"
      ]
     },
     "execution_count": 43,
     "metadata": {},
     "output_type": "execute_result"
    }
   ],
   "source": [
    "# bu verileri birlestirelim\n",
    "newDataFrame = pd.concat([dataFrame1, dataFrame2, dataFrame3]) # burada axis belirtilebilir. Fakat bu verisetinde axis = 1 kullanmak sacma bir sonuc verir\n",
    "newDataFrame"
   ]
  },
  {
   "cell_type": "markdown",
   "id": "3dce828a",
   "metadata": {},
   "source": [
    "### merge() = birlestirme islemi"
   ]
  },
  {
   "cell_type": "code",
   "execution_count": 44,
   "id": "422de2a6",
   "metadata": {},
   "outputs": [
    {
     "name": "stdout",
     "output_type": "stream",
     "text": [
      "     Isim       Spor\n",
      "0  Furkan       Kosu\n",
      "1   Hamza      Yuzme\n",
      "2   Duygu  Badminton\n",
      "3    Ayse      Tenis\n",
      "\n",
      "\n",
      "     Isim  Kalori\n",
      "0  Furkan     101\n",
      "1   Hamza     203\n",
      "2   Duygu     305\n",
      "3    Ayse     407\n"
     ]
    }
   ],
   "source": [
    "# elimizde ad ve spor kolonlu bir data olsun. Ve bir de ayni ad ve kalori kalori kolonu olan data. Bu ikisini birlestirelim\n",
    "# verilerimi olusturalim\n",
    "yeniSozluk1 = {'Isim' : ['Furkan', 'Hamza', 'Duygu', 'Ayse'],\n",
    "               'Spor' : ['Kosu', 'Yuzme', 'Badminton', 'Tenis'],\n",
    "          }\n",
    "\n",
    "yeniSozluk2 = {'Isim' : ['Furkan', 'Hamza', 'Duygu', 'Ayse'],\n",
    "               'Kalori' : [101, 203, 305, 407]\n",
    "          }\n",
    "# dataFrame e atalim verileri\n",
    "yeniDataFrame1 = pd.DataFrame(yeniSozluk1)\n",
    "yeniDataFrame2 = pd.DataFrame(yeniSozluk2)\n",
    "\n",
    "# verilerimizi yazdiralim\n",
    "print(yeniDataFrame1)\n",
    "print('\\n')\n",
    "print(yeniDataFrame2)"
   ]
  },
  {
   "cell_type": "code",
   "execution_count": 45,
   "id": "5fb3e373",
   "metadata": {},
   "outputs": [
    {
     "data": {
      "text/html": [
       "<div>\n",
       "<style scoped>\n",
       "    .dataframe tbody tr th:only-of-type {\n",
       "        vertical-align: middle;\n",
       "    }\n",
       "\n",
       "    .dataframe tbody tr th {\n",
       "        vertical-align: top;\n",
       "    }\n",
       "\n",
       "    .dataframe thead th {\n",
       "        text-align: right;\n",
       "    }\n",
       "</style>\n",
       "<table border=\"1\" class=\"dataframe\">\n",
       "  <thead>\n",
       "    <tr style=\"text-align: right;\">\n",
       "      <th></th>\n",
       "      <th>Isim</th>\n",
       "      <th>Spor</th>\n",
       "      <th>Kalori</th>\n",
       "    </tr>\n",
       "  </thead>\n",
       "  <tbody>\n",
       "    <tr>\n",
       "      <th>0</th>\n",
       "      <td>Furkan</td>\n",
       "      <td>Kosu</td>\n",
       "      <td>101</td>\n",
       "    </tr>\n",
       "    <tr>\n",
       "      <th>1</th>\n",
       "      <td>Hamza</td>\n",
       "      <td>Yuzme</td>\n",
       "      <td>203</td>\n",
       "    </tr>\n",
       "    <tr>\n",
       "      <th>2</th>\n",
       "      <td>Duygu</td>\n",
       "      <td>Badminton</td>\n",
       "      <td>305</td>\n",
       "    </tr>\n",
       "    <tr>\n",
       "      <th>3</th>\n",
       "      <td>Ayse</td>\n",
       "      <td>Tenis</td>\n",
       "      <td>407</td>\n",
       "    </tr>\n",
       "  </tbody>\n",
       "</table>\n",
       "</div>"
      ],
      "text/plain": [
       "     Isim       Spor  Kalori\n",
       "0  Furkan       Kosu     101\n",
       "1   Hamza      Yuzme     203\n",
       "2   Duygu  Badminton     305\n",
       "3    Ayse      Tenis     407"
      ]
     },
     "execution_count": 45,
     "metadata": {},
     "output_type": "execute_result"
    }
   ],
   "source": [
    "# burada ortak kolon mevcut. Icerigi de ayni. Bu iki veriyi buna gore birlestirelim\n",
    "#         data 1     |      data 2    |    ortak verilerin oldugu kolon = merge kullanimi\n",
    "newData = pd.merge(yeniDataFrame1, yeniDataFrame2, on = 'Isim')\n",
    "\n",
    "# birlesmis veriyi yazdiralim\n",
    "newData"
   ]
  },
  {
   "cell_type": "markdown",
   "id": "271a95c9",
   "metadata": {},
   "source": [
    "#### Merge() ortak kolonlari tespit edip birlestirme yaparken\\ concat() dogrudan istenilen axis boyunca birlestirme yapar"
   ]
  },
  {
   "cell_type": "code",
   "execution_count": 46,
   "id": "dd0922da",
   "metadata": {},
   "outputs": [
    {
     "data": {
      "text/html": [
       "<div>\n",
       "<style scoped>\n",
       "    .dataframe tbody tr th:only-of-type {\n",
       "        vertical-align: middle;\n",
       "    }\n",
       "\n",
       "    .dataframe tbody tr th {\n",
       "        vertical-align: top;\n",
       "    }\n",
       "\n",
       "    .dataframe thead th {\n",
       "        text-align: right;\n",
       "    }\n",
       "</style>\n",
       "<table border=\"1\" class=\"dataframe\">\n",
       "  <thead>\n",
       "    <tr style=\"text-align: right;\">\n",
       "      <th></th>\n",
       "      <th>Isim</th>\n",
       "      <th>Departman</th>\n",
       "      <th>Maas</th>\n",
       "    </tr>\n",
       "  </thead>\n",
       "  <tbody>\n",
       "    <tr>\n",
       "      <th>0</th>\n",
       "      <td>Furkan</td>\n",
       "      <td>Yazilim</td>\n",
       "      <td>101</td>\n",
       "    </tr>\n",
       "    <tr>\n",
       "      <th>1</th>\n",
       "      <td>Hamza</td>\n",
       "      <td>Satis</td>\n",
       "      <td>203</td>\n",
       "    </tr>\n",
       "    <tr>\n",
       "      <th>2</th>\n",
       "      <td>Duygu</td>\n",
       "      <td>Pazarlama</td>\n",
       "      <td>305</td>\n",
       "    </tr>\n",
       "    <tr>\n",
       "      <th>3</th>\n",
       "      <td>Ayse</td>\n",
       "      <td>Yazilim</td>\n",
       "      <td>407</td>\n",
       "    </tr>\n",
       "  </tbody>\n",
       "</table>\n",
       "</div>"
      ],
      "text/plain": [
       "     Isim  Departman  Maas\n",
       "0  Furkan    Yazilim   101\n",
       "1   Hamza      Satis   203\n",
       "2   Duygu  Pazarlama   305\n",
       "3    Ayse    Yazilim   407"
      ]
     },
     "execution_count": 46,
     "metadata": {},
     "output_type": "execute_result"
    }
   ],
   "source": [
    "# ileri operasyonlarla islem yapmak icin yeni bi veri olusturalim\n",
    "maasSozluk = {'Isim' : ['Furkan', 'Hamza', 'Duygu', 'Ayse'],\n",
    "               'Departman' : ['Yazilim', 'Satis', 'Pazarlama', 'Yazilim'],\n",
    "               'Maas' : [101, 203, 305, 407]\n",
    "          }\n",
    "\n",
    "# dataFrame olusturalim\n",
    "maasDataFrame = pd.DataFrame(maasSozluk)\n",
    "maasDataFrame"
   ]
  },
  {
   "cell_type": "code",
   "execution_count": 47,
   "id": "512e5bf9",
   "metadata": {},
   "outputs": [
    {
     "data": {
      "text/plain": [
       "array(['Yazilim', 'Satis', 'Pazarlama'], dtype=object)"
      ]
     },
     "execution_count": 47,
     "metadata": {},
     "output_type": "execute_result"
    }
   ],
   "source": [
    "# sirkette kac departman olduguna bakalim. Unique() essiz degerleri bize verir\n",
    "maasDataFrame['Departman'].unique()"
   ]
  },
  {
   "cell_type": "code",
   "execution_count": 48,
   "id": "cac2307e",
   "metadata": {},
   "outputs": [
    {
     "data": {
      "text/plain": [
       "3"
      ]
     },
     "execution_count": 48,
     "metadata": {},
     "output_type": "execute_result"
    }
   ],
   "source": [
    "# kac farkli departman oldugunu nunique() ile getirebiliriz\n",
    "maasDataFrame['Departman'].nunique()"
   ]
  },
  {
   "cell_type": "code",
   "execution_count": 49,
   "id": "f6f16fc6",
   "metadata": {},
   "outputs": [
    {
     "data": {
      "text/plain": [
       "Yazilim      2\n",
       "Satis        1\n",
       "Pazarlama    1\n",
       "Name: Departman, dtype: int64"
      ]
     },
     "execution_count": 49,
     "metadata": {},
     "output_type": "execute_result"
    }
   ],
   "source": [
    "# hangi departmanda kac kisi olduguna bakalim value_counts()\n",
    "maasDataFrame['Departman'].value_counts()"
   ]
  },
  {
   "cell_type": "code",
   "execution_count": 50,
   "id": "52906d08",
   "metadata": {},
   "outputs": [
    {
     "data": {
      "text/plain": [
       "0     60.6\n",
       "1    121.8\n",
       "2    183.0\n",
       "3    244.2\n",
       "Name: Maas, dtype: float64"
      ]
     },
     "execution_count": 50,
     "metadata": {},
     "output_type": "execute_result"
    }
   ],
   "source": [
    "# her calisanin maasini 0.6 ile carpalim ve yeni maas yapalim\n",
    "def newMaas(maas):\n",
    "    return maas * 0.6\n",
    "\n",
    "# apply() uygula anlamina gelen fonksyiondur\n",
    "maasDataFrame['Maas'].apply(newMaas)"
   ]
  },
  {
   "cell_type": "markdown",
   "id": "8cbab73b",
   "metadata": {},
   "source": [
    "## disardan veri cekmek\n"
   ]
  },
  {
   "cell_type": "code",
   "execution_count": 54,
   "id": "4b9accd6",
   "metadata": {},
   "outputs": [],
   "source": [
    "dosya = pd.read_excel('pandas.xlsx')\n",
    "dataFrameDosya = dosya"
   ]
  },
  {
   "cell_type": "code",
   "execution_count": 55,
   "id": "09083562",
   "metadata": {},
   "outputs": [
    {
     "data": {
      "text/html": [
       "<div>\n",
       "<style scoped>\n",
       "    .dataframe tbody tr th:only-of-type {\n",
       "        vertical-align: middle;\n",
       "    }\n",
       "\n",
       "    .dataframe tbody tr th {\n",
       "        vertical-align: top;\n",
       "    }\n",
       "\n",
       "    .dataframe thead th {\n",
       "        text-align: right;\n",
       "    }\n",
       "</style>\n",
       "<table border=\"1\" class=\"dataframe\">\n",
       "  <thead>\n",
       "    <tr style=\"text-align: right;\">\n",
       "      <th></th>\n",
       "      <th>Unnamed: 0</th>\n",
       "      <th>Maas</th>\n",
       "      <th>Yas</th>\n",
       "      <th>Departman</th>\n",
       "    </tr>\n",
       "  </thead>\n",
       "  <tbody>\n",
       "    <tr>\n",
       "      <th>0</th>\n",
       "      <td>Furkan</td>\n",
       "      <td>100</td>\n",
       "      <td>23.0</td>\n",
       "      <td>Yazilim</td>\n",
       "    </tr>\n",
       "    <tr>\n",
       "      <th>1</th>\n",
       "      <td>Hamza</td>\n",
       "      <td>150</td>\n",
       "      <td>20.0</td>\n",
       "      <td>Satis</td>\n",
       "    </tr>\n",
       "    <tr>\n",
       "      <th>2</th>\n",
       "      <td>Ayse</td>\n",
       "      <td>200</td>\n",
       "      <td>34.0</td>\n",
       "      <td>NaN</td>\n",
       "    </tr>\n",
       "    <tr>\n",
       "      <th>3</th>\n",
       "      <td>Fatma</td>\n",
       "      <td>250</td>\n",
       "      <td>20.0</td>\n",
       "      <td>Pazarlama</td>\n",
       "    </tr>\n",
       "    <tr>\n",
       "      <th>4</th>\n",
       "      <td>Mehmet</td>\n",
       "      <td>300</td>\n",
       "      <td>NaN</td>\n",
       "      <td>Finans</td>\n",
       "    </tr>\n",
       "    <tr>\n",
       "      <th>5</th>\n",
       "      <td>Hatice</td>\n",
       "      <td>350</td>\n",
       "      <td>40.0</td>\n",
       "      <td>Hukuk</td>\n",
       "    </tr>\n",
       "  </tbody>\n",
       "</table>\n",
       "</div>"
      ],
      "text/plain": [
       "  Unnamed: 0  Maas   Yas  Departman\n",
       "0     Furkan   100  23.0    Yazilim\n",
       "1      Hamza   150  20.0      Satis\n",
       "2       Ayse   200  34.0        NaN\n",
       "3      Fatma   250  20.0  Pazarlama\n",
       "4     Mehmet   300   NaN     Finans\n",
       "5     Hatice   350  40.0      Hukuk"
      ]
     },
     "execution_count": 55,
     "metadata": {},
     "output_type": "execute_result"
    }
   ],
   "source": [
    "dataFrameDosya"
   ]
  },
  {
   "cell_type": "code",
   "execution_count": 61,
   "id": "9ea30ad2",
   "metadata": {},
   "outputs": [
    {
     "data": {
      "text/html": [
       "<div>\n",
       "<style scoped>\n",
       "    .dataframe tbody tr th:only-of-type {\n",
       "        vertical-align: middle;\n",
       "    }\n",
       "\n",
       "    .dataframe tbody tr th {\n",
       "        vertical-align: top;\n",
       "    }\n",
       "\n",
       "    .dataframe thead th {\n",
       "        text-align: right;\n",
       "    }\n",
       "</style>\n",
       "<table border=\"1\" class=\"dataframe\">\n",
       "  <thead>\n",
       "    <tr style=\"text-align: right;\">\n",
       "      <th></th>\n",
       "      <th>Unnamed: 0</th>\n",
       "      <th>Maas</th>\n",
       "      <th>Yas</th>\n",
       "      <th>Departman</th>\n",
       "    </tr>\n",
       "  </thead>\n",
       "  <tbody>\n",
       "    <tr>\n",
       "      <th>0</th>\n",
       "      <td>Furkan</td>\n",
       "      <td>100</td>\n",
       "      <td>23.0</td>\n",
       "      <td>Yazilim</td>\n",
       "    </tr>\n",
       "    <tr>\n",
       "      <th>1</th>\n",
       "      <td>Hamza</td>\n",
       "      <td>150</td>\n",
       "      <td>20.0</td>\n",
       "      <td>Satis</td>\n",
       "    </tr>\n",
       "    <tr>\n",
       "      <th>3</th>\n",
       "      <td>Fatma</td>\n",
       "      <td>250</td>\n",
       "      <td>20.0</td>\n",
       "      <td>Pazarlama</td>\n",
       "    </tr>\n",
       "    <tr>\n",
       "      <th>5</th>\n",
       "      <td>Hatice</td>\n",
       "      <td>350</td>\n",
       "      <td>40.0</td>\n",
       "      <td>Hukuk</td>\n",
       "    </tr>\n",
       "  </tbody>\n",
       "</table>\n",
       "</div>"
      ],
      "text/plain": [
       "  Unnamed: 0  Maas   Yas  Departman\n",
       "0     Furkan   100  23.0    Yazilim\n",
       "1      Hamza   150  20.0      Satis\n",
       "3      Fatma   250  20.0  Pazarlama\n",
       "5     Hatice   350  40.0      Hukuk"
      ]
     },
     "execution_count": 61,
     "metadata": {},
     "output_type": "execute_result"
    }
   ],
   "source": [
    "# NaN degerleri silelim\n",
    "duzeltilismExcel = dataFrameDosya.dropna()\n",
    "duzeltilismExcel"
   ]
  },
  {
   "cell_type": "code",
   "execution_count": 62,
   "id": "5536ab4c",
   "metadata": {},
   "outputs": [],
   "source": [
    "# bunu dosyaya yazalim\n",
    "duzeltilismExcel.to_excel('Duzenlenmis_excel.xlsx')"
   ]
  },
  {
   "cell_type": "markdown",
   "id": "407bc49d",
   "metadata": {},
   "source": [
    "##  read_csv \\ read_excel vs okuma\n",
    "## to_csv \\ to_excel yazma"
   ]
  },
  {
   "cell_type": "code",
   "execution_count": null,
   "id": "e27079b2",
   "metadata": {},
   "outputs": [],
   "source": []
  }
 ],
 "metadata": {
  "kernelspec": {
   "display_name": "Python 3 (ipykernel)",
   "language": "python",
   "name": "python3"
  },
  "language_info": {
   "codemirror_mode": {
    "name": "ipython",
    "version": 3
   },
   "file_extension": ".py",
   "mimetype": "text/x-python",
   "name": "python",
   "nbconvert_exporter": "python",
   "pygments_lexer": "ipython3",
   "version": "3.9.13"
  }
 },
 "nbformat": 4,
 "nbformat_minor": 5
}
