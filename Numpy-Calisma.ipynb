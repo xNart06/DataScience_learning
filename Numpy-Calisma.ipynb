{
 "cells": [
  {
   "cell_type": "markdown",
   "id": "b4b50ccf",
   "metadata": {},
   "source": [
    "## Numpy: Bilimsel matematik hesaplarini hizli yapmamizi saglayan bir kutuphanedir\n",
    "\n",
    "####  Numpy dizileri, Python dizilerindeki gibidir fakat daha hizli calisir. Ayrıca python listelerinden farklı olarak Numpy dizileri homojen yapıda olmalıdır yani dizi içindeki tüm elemanlar aynı veri tipinden olmalıdır."
   ]
  },
  {
   "cell_type": "code",
   "execution_count": 10,
   "id": "6ecfd184",
   "metadata": {},
   "outputs": [
    {
     "name": "stdout",
     "output_type": "stream",
     "text": [
      "[0, 1, 2, 3, 4, 5, 6, 7, 8, 9]\n",
      "<class 'list'>\n",
      "[0 1 2 3 4 5 6 7 8 9]\n",
      "<class 'numpy.ndarray'>\n",
      "[0 1 2 3 4 5 6 7 8 9]\n",
      "<class 'numpy.ndarray'>\n"
     ]
    }
   ],
   "source": [
    "import numpy as np\n",
    "\n",
    "# numpy ve python array farklarini daha rahat gorelim\n",
    "python_array = [0, 1, 2, 3, 4, 5, 6, 7, 8, 9]\n",
    "numpy_array = np.array([0, 1, 2, 3, 4, 5, 6, 7, 8, 9])\n",
    "\n",
    "# ayrica dilersek bir python array np array e donusturulebilir\n",
    "np_arrayDonusturme = np.array(python_array) \n",
    "\n",
    "\n",
    "print(python_array)\n",
    "print(type(python_array))\n",
    "\n",
    "print(numpy_array)\n",
    "print(type(numpy_array))\n",
    "\n",
    "print(np_arrayDonusturme)\n",
    "print(type(np_arrayDonusturme))"
   ]
  },
  {
   "cell_type": "code",
   "execution_count": 14,
   "id": "0aaade17",
   "metadata": {},
   "outputs": [
    {
     "name": "stdout",
     "output_type": "stream",
     "text": [
      "[[1 2 3]\n",
      " [4 5 6]\n",
      " [7 8 9]]\n"
     ]
    }
   ],
   "source": [
    "# matrix olusturma\n",
    "matrix_listesi = np.array([[1,2,3],[4,5,6],[7,8,9]])\n",
    "print(matrix_listesi)"
   ]
  },
  {
   "cell_type": "markdown",
   "id": "4b7cd60b",
   "metadata": {},
   "source": [
    "# Metodlar"
   ]
  },
  {
   "cell_type": "markdown",
   "id": "c45cf92a",
   "metadata": {},
   "source": [
    "##  .ndim : dizi boyutunu verir"
   ]
  },
  {
   "cell_type": "code",
   "execution_count": 24,
   "id": "45887f6b",
   "metadata": {},
   "outputs": [
    {
     "name": "stdout",
     "output_type": "stream",
     "text": [
      "matrix_listesi \"2\" boyutludur\n",
      "numpy_array \"1\" boyutludur\n"
     ]
    }
   ],
   "source": [
    "# dizilerin kac boyutlu oldugunu bulalim\n",
    "matrix_listesi = np.array([[1,2,3],[4,5,6],[7,8,9]])\n",
    "numpy_array = np.array([0, 1, 2, 3, 4, 5, 6, 7, 8, 9])\n",
    "\n",
    "print('matrix_listesi \"{}\" boyutludur'.format(matrix_listesi.ndim))\n",
    "print('numpy_array \"{}\" boyutludur'.format(numpy_array.ndim))"
   ]
  },
  {
   "cell_type": "markdown",
   "id": "6cae10ca",
   "metadata": {},
   "source": [
    "## shape :  satir ve sutun sayisi bulma  x.shape(SATIR,SUTUN)  Not! : tek boyutlu dizi de sadece 1 deger bulunur"
   ]
  },
  {
   "cell_type": "code",
   "execution_count": 55,
   "id": "cf0413ea",
   "metadata": {},
   "outputs": [
    {
     "name": "stdout",
     "output_type": "stream",
     "text": [
      "(3, 3)\n",
      "(10,)\n"
     ]
    }
   ],
   "source": [
    "# shape ile matrixlerin satir ve sutun sayilarini gorelim\n",
    "matrix_listesi = np.array([[1,2,3],[4,5,6],[7,8,9]])\n",
    "numpy_array = np.array([0, 1, 2, 3, 4, 5, 6, 7, 8, 9])\n",
    "\n",
    "print(matrix_listesi.shape)\n",
    "print(numpy_array.shape)"
   ]
  },
  {
   "cell_type": "markdown",
   "id": "d1fd6d5d",
   "metadata": {},
   "source": [
    "## reshape : matrisi yeniden boyutlandirir  x.reshape(SATIR,SUTUN) "
   ]
  },
  {
   "cell_type": "code",
   "execution_count": 56,
   "id": "40eb59c8",
   "metadata": {},
   "outputs": [
    {
     "name": "stdout",
     "output_type": "stream",
     "text": [
      "matrix listesi orijinal \n",
      "[[1 2 3]\n",
      " [4 5 6]\n",
      " [7 8 9]]\n",
      "\n",
      "numpy listesi orijinal \n",
      "[0 1 2 3 4 5 6 7 8 9]\n",
      "\n",
      "reshape edilmis matrix listesi \n",
      "[[1 2 3 4 5 6 7 8 9]]\n",
      "\n",
      "reshape edilmis numpy listesi \n",
      "[[0 1]\n",
      " [2 3]\n",
      " [4 5]\n",
      " [6 7]\n",
      " [8 9]]\n"
     ]
    }
   ],
   "source": [
    "# orijinal hallerini yazalim\n",
    "matrix_listesi = np.array([[1,2,3],[4,5,6],[7,8,9]])\n",
    "numpy_array = np.array([0, 1, 2, 3, 4, 5, 6, 7, 8, 9])\n",
    "\n",
    "print('matrix listesi orijinal \\n{}'.format(matrix_listesi))\n",
    "print('\\nnumpy listesi orijinal \\n{}'.format(numpy_array))\n",
    "\n",
    "# reshape ile degistirelim\n",
    "matrix_listesi = matrix_listesi.reshape(1,9)\n",
    "numpy_array = numpy_array.reshape(5,2)\n",
    "\n",
    "print('\\nreshape edilmis matrix listesi \\n{}'.format(matrix_listesi))\n",
    "print('\\nreshape edilmis numpy listesi \\n{}'.format(numpy_array))"
   ]
  },
  {
   "cell_type": "markdown",
   "id": "238b94d5",
   "metadata": {},
   "source": [
    "##### Not! : reshape ederken eleman sayisina gore ediyoruz. 10 elemanli matrisi (3,2) seklinde yazdirmazsin (5,2) (2,5) (1,10) (10,1) seklinde olabilir"
   ]
  },
  {
   "cell_type": "markdown",
   "id": "571d6bb5",
   "metadata": {},
   "source": [
    "## arange() ve linspace() \n",
    "#### DIKKAT !!  Bu iki method birbirine benzer\n",
    "####  ARANGE() range ifadesi gibi belli sayidan belli sayiya kadar belirli adim kadar ilerler\n",
    "#### LINSPACE() ise belirli sayilar arasinda esit aralikli kac sayi uretilecegini cikarir"
   ]
  },
  {
   "cell_type": "code",
   "execution_count": 67,
   "id": "e8d0208f",
   "metadata": {},
   "outputs": [
    {
     "name": "stdout",
     "output_type": "stream",
     "text": [
      "[0 2 4 6 8]\n",
      "[0]\n"
     ]
    }
   ],
   "source": [
    "# arange() kullanimi\n",
    "# sifirdan 10 a 2'ser artarak gitsin\n",
    "print(np.arange(0,10,2))\n",
    "\n",
    "# 0 dan 2 ye kadar 5er artaraka git\n",
    "print(np.arange(0,2,5))"
   ]
  },
  {
   "cell_type": "code",
   "execution_count": 69,
   "id": "1c1c2ffc",
   "metadata": {},
   "outputs": [
    {
     "name": "stdout",
     "output_type": "stream",
     "text": [
      "[ 0. 10.]\n",
      "[0.  0.5 1.  1.5 2. ]\n"
     ]
    }
   ],
   "source": [
    "# linspace() kullanimi\n",
    "# 0-10 arasi esit aralikli 2 sayi getirsin\n",
    "print(np.linspace(0,10,2))\n",
    "\n",
    "# 0-2 arasi esit aralikli 5 sayi getir\n",
    "print(np.linspace(0,2,5))"
   ]
  },
  {
   "cell_type": "markdown",
   "id": "d592c304",
   "metadata": {},
   "source": [
    "## eye() birim matrix"
   ]
  },
  {
   "cell_type": "code",
   "execution_count": 72,
   "id": "530bc9fe",
   "metadata": {},
   "outputs": [
    {
     "data": {
      "text/plain": [
       "array([[1., 0., 0., 0., 0., 0., 0., 0., 0., 0.],\n",
       "       [0., 1., 0., 0., 0., 0., 0., 0., 0., 0.],\n",
       "       [0., 0., 1., 0., 0., 0., 0., 0., 0., 0.],\n",
       "       [0., 0., 0., 1., 0., 0., 0., 0., 0., 0.],\n",
       "       [0., 0., 0., 0., 1., 0., 0., 0., 0., 0.],\n",
       "       [0., 0., 0., 0., 0., 1., 0., 0., 0., 0.],\n",
       "       [0., 0., 0., 0., 0., 0., 1., 0., 0., 0.],\n",
       "       [0., 0., 0., 0., 0., 0., 0., 1., 0., 0.],\n",
       "       [0., 0., 0., 0., 0., 0., 0., 0., 1., 0.],\n",
       "       [0., 0., 0., 0., 0., 0., 0., 0., 0., 1.]])"
      ]
     },
     "execution_count": 72,
     "metadata": {},
     "output_type": "execute_result"
    }
   ],
   "source": [
    "# 10x10 luk birim matrix\n",
    "np.eye(10) "
   ]
  },
  {
   "cell_type": "markdown",
   "id": "3c460be8",
   "metadata": {},
   "source": [
    "## zeros() ve ones()"
   ]
  },
  {
   "cell_type": "code",
   "execution_count": 77,
   "id": "490e7aa3",
   "metadata": {},
   "outputs": [
    {
     "name": "stdout",
     "output_type": "stream",
     "text": [
      "[[0. 0. 0. 0. 0.]\n",
      " [0. 0. 0. 0. 0.]\n",
      " [0. 0. 0. 0. 0.]\n",
      " [0. 0. 0. 0. 0.]\n",
      " [0. 0. 0. 0. 0.]]\n",
      "\n",
      "\n",
      "[[1. 1. 1.]\n",
      " [1. 1. 1.]\n",
      " [1. 1. 1.]\n",
      " [1. 1. 1.]]\n"
     ]
    }
   ],
   "source": [
    "# gerekli durumlarda 0 ve 1lerden lusan matrislere ihtiyac olabilir\n",
    "print(np.zeros([5,5]))\n",
    "print('\\n')\n",
    "print(np.ones([4,3]))"
   ]
  },
  {
   "cell_type": "markdown",
   "id": "d9ef5ec0",
   "metadata": {},
   "source": [
    "## random : rastele sayi uretme || linspace aksine araliklar esit olmaz"
   ]
  },
  {
   "cell_type": "code",
   "execution_count": 85,
   "id": "65a7b43e",
   "metadata": {
    "scrolled": true
   },
   "outputs": [
    {
     "name": "stdout",
     "output_type": "stream",
     "text": [
      "[[-0.46995456  0.05316895 -0.24382212  0.61165771]\n",
      " [ 1.05235314 -0.38475386  0.1862537  -1.06857838]\n",
      " [-0.82378781  0.61871828 -1.36337953  0.14947778]\n",
      " [-1.80854617 -0.7916108  -1.11326078  0.07857906]]\n",
      "[0 1 1 0 0 0 0 1 0 0 1 1 1 1 1 0 0 0 1 1]\n"
     ]
    }
   ],
   "source": [
    "import random\n",
    "\n",
    "print(np.random.randn(4,4))\n",
    "print(np.random.randint(0,2,20))"
   ]
  },
  {
   "cell_type": "markdown",
   "id": "707a2461",
   "metadata": {},
   "source": [
    "## concatenate([matris1, matris2], axis = 0/1)  matrix birlestirme"
   ]
  },
  {
   "cell_type": "code",
   "execution_count": 94,
   "id": "801cb5d7",
   "metadata": {},
   "outputs": [
    {
     "name": "stdout",
     "output_type": "stream",
     "text": [
      "[[0 1]\n",
      " [2 3]\n",
      " [4 5]\n",
      " [6 7]\n",
      " [8 9]\n",
      " [0 1]\n",
      " [2 3]\n",
      " [4 5]\n",
      " [6 7]\n",
      " [8 9]]\n",
      "\n",
      "\n",
      "[[0 1 0 1]\n",
      " [2 3 2 3]\n",
      " [4 5 4 5]\n",
      " [6 7 6 7]\n",
      " [8 9 8 9]]\n"
     ]
    }
   ],
   "source": [
    "# diziyi 2 boyutlu yapalim ve kendi ile birlestirelim\n",
    "numpy_array = np.array([0,1, 2, 3, 4, 5, 6, 7, 8, 9])\n",
    "numpy_array = numpy_array.reshape([5,2])\n",
    "\n",
    "# satir bazli birlestirme islemi\n",
    "print(np.concatenate([numpy_array, numpy_array], axis = 0))\n",
    "print('\\n')\n",
    "\n",
    "# sutun bazli birlestirme islemi \n",
    "print(np.concatenate([numpy_array, numpy_array], axis = 1))"
   ]
  },
  {
   "cell_type": "markdown",
   "id": "7d230ab9",
   "metadata": {},
   "source": [
    "## matris eleman secme islemleri [satir][sutun]"
   ]
  },
  {
   "cell_type": "code",
   "execution_count": 121,
   "id": "0c315d51",
   "metadata": {},
   "outputs": [
    {
     "name": "stdout",
     "output_type": "stream",
     "text": [
      "[[1 2 3]\n",
      " [4 5 6]\n",
      " [7 8 9]]\n",
      "\n",
      "\n",
      "3\n",
      "\n",
      "\n",
      "[2 5 8]\n",
      "\n",
      "\n",
      "[[1 2 3]\n",
      " [7 8 9]]\n",
      "\n",
      "\n",
      "[[7 8 9]\n",
      " [4 5 6]\n",
      " [1 2 3]]\n"
     ]
    }
   ],
   "source": [
    "matrix_listesi = np.array([[1,2,3],[4,5,6],[7,8,9]])\n",
    "print(matrix_listesi)\n",
    "print('\\n')\n",
    "\n",
    "# ilk satirin son elemani\n",
    "print(matrix_listesi[0,2])\n",
    "print('\\n')\n",
    "\n",
    "# tum satirlarin 2. elemani\n",
    "print(matrix_listesi[:,1])\n",
    "print('\\n')\n",
    "\n",
    "# 1. ve 3. satiri getir\n",
    "print(matrix_listesi[[0,2]])\n",
    "print('\\n')\n",
    "\n",
    "\n",
    "# tersten yazdirma\n",
    "print(matrix_listesi[::-1])"
   ]
  },
  {
   "cell_type": "code",
   "execution_count": 119,
   "id": "b7dcb7e1",
   "metadata": {},
   "outputs": [
    {
     "name": "stdout",
     "output_type": "stream",
     "text": [
      "[0 1 2 3 4 5 6 7 8 9]\n",
      "[0 1 0 0 0 0 6 7 8 9]\n",
      "[9 8 7 6 0 0 0 0 1 0]\n"
     ]
    }
   ],
   "source": [
    "# tek boyutlu matriste birkac ornek var\n",
    "numpy_array = np.array([0,1, 2, 3, 4, 5, 6, 7, 8, 9])\n",
    "print(numpy_array)\n",
    "\n",
    "# 2 den 5 e kadar olan degerlere 0 ata\n",
    "numpy_array[2:6] = 0\n",
    "print(numpy_array)\n",
    "\n",
    "#ters cevir\n",
    "print(numpy_array[::-1]) "
   ]
  },
  {
   "cell_type": "markdown",
   "id": "673cc059",
   "metadata": {},
   "source": [
    "## Matematiksel islemler"
   ]
  },
  {
   "cell_type": "markdown",
   "id": "c8ede99f",
   "metadata": {},
   "source": [
    "### sum(), max() ve min()"
   ]
  },
  {
   "cell_type": "code",
   "execution_count": 125,
   "id": "35b101f2",
   "metadata": {},
   "outputs": [
    {
     "name": "stdout",
     "output_type": "stream",
     "text": [
      "45\n",
      "9\n",
      "1\n"
     ]
    }
   ],
   "source": [
    "# toplam\n",
    "matrix_listesi = np.array([[1,2,3],[4,5,6],[7,8,9]])\n",
    "print(matrix_listesi.sum())\n",
    "\n",
    "# dizideki max deger\n",
    "print(matrix_listesi.max())\n",
    "\n",
    "# dizideki min deger\n",
    "print(matrix_listesi.min())"
   ]
  },
  {
   "cell_type": "markdown",
   "id": "3b66256f",
   "metadata": {},
   "source": [
    "### mean() : ortalama\n",
    "### median() : ortanca deger\n",
    "### var() : varyans\n",
    "### std() : standart sapma"
   ]
  },
  {
   "cell_type": "code",
   "execution_count": 137,
   "id": "ad4220c7",
   "metadata": {},
   "outputs": [
    {
     "name": "stdout",
     "output_type": "stream",
     "text": [
      "4.5\n",
      "4.5\n",
      "6.666666666666667\n",
      "2.581988897471611\n"
     ]
    }
   ],
   "source": [
    "numpy_array = np.array([0 ,1, 2, 3, 4, 5, 6, 7, 8, 9])\n",
    "\n",
    "# ortalama\n",
    "print(numpy_array.mean())\n",
    "\n",
    "# ortanca deger(medyan)\n",
    "print(np.median(numpy_array))\n",
    "\n",
    "# varyans\n",
    "print(matrix_listesi.var())\n",
    "\n",
    "# standart sapma\n",
    "print(matrix_listesi.std())"
   ]
  },
  {
   "cell_type": "markdown",
   "id": "9cb64a96",
   "metadata": {},
   "source": [
    "## matrisler ile matematiksel islemler"
   ]
  },
  {
   "cell_type": "code",
   "execution_count": 146,
   "id": "c6c3924f",
   "metadata": {},
   "outputs": [
    {
     "name": "stdout",
     "output_type": "stream",
     "text": [
      "[[1 2 3]\n",
      " [4 5 6]\n",
      " [7 8 9]]\n",
      "\n",
      "\n",
      "[[ 2  4  6]\n",
      " [ 8 10 12]\n",
      " [14 16 18]]\n",
      "\n",
      "\n",
      "[[0 0 0]\n",
      " [0 0 0]\n",
      " [0 0 0]]\n",
      "\n",
      "\n",
      "[[ 1  4  9]\n",
      " [16 25 36]\n",
      " [49 64 81]]\n",
      "\n",
      "\n",
      "[[1. 1. 1.]\n",
      " [1. 1. 1.]\n",
      " [1. 1. 1.]]\n",
      "\n",
      "\n",
      "[[ 6  7  8]\n",
      " [ 9 10 11]\n",
      " [12 13 14]]\n",
      "\n",
      "\n",
      "[[ 5 10 15]\n",
      " [20 25 30]\n",
      " [35 40 45]]\n",
      "\n",
      "\n",
      "[[1.         1.41421356 1.73205081]\n",
      " [2.         2.23606798 2.44948974]\n",
      " [2.64575131 2.82842712 3.        ]]\n",
      "\n",
      "\n",
      "Transpoz hali\n",
      " [[1 4 7]\n",
      " [2 5 8]\n",
      " [3 6 9]]\n"
     ]
    }
   ],
   "source": [
    "numpy_array = np.array([1, 2, 3, 4, 5, 6, 7, 8, 9])\n",
    "numpy_array = numpy_array.reshape(3,3)\n",
    "print(numpy_array)\n",
    "print('\\n')\n",
    "\n",
    "# iki matrisi toplama\n",
    "print(numpy_array + numpy_array)\n",
    "print('\\n')\n",
    "\n",
    "# iki matrisi cikarma\n",
    "print(numpy_array - numpy_array)\n",
    "print('\\n')\n",
    "\n",
    "# iki matrisi carpma\n",
    "print(numpy_array * numpy_array)\n",
    "print('\\n')\n",
    "\n",
    "# iki matrisi bolme\n",
    "print(numpy_array / numpy_array)\n",
    "print('\\n')\n",
    "\n",
    "# matrisiteki her elemani 5 ile toplama\n",
    "print(numpy_array + 5)\n",
    "print('\\n')\n",
    "\n",
    "# matrisiteki her elemani 5 ile carpma\n",
    "print(numpy_array * 5)\n",
    "print('\\n')\n",
    "\n",
    "# matrisiteki her elemanin karekoku\n",
    "print(np.sqrt(numpy_array))\n",
    "print('\\n')\n",
    "\n",
    "# matrisin transpozu\n",
    "print('Transpoz hali\\n {}'.format(numpy_array.T))"
   ]
  },
  {
   "cell_type": "markdown",
   "id": "8f307d38",
   "metadata": {},
   "source": [
    "## Kosullu ifadeler"
   ]
  },
  {
   "cell_type": "code",
   "execution_count": 154,
   "id": "d3c86f83",
   "metadata": {},
   "outputs": [
    {
     "name": "stdout",
     "output_type": "stream",
     "text": [
      "[False False False False False  True  True  True  True]\n",
      "[6 7 8 9]\n",
      "\n",
      "\n",
      "[ True  True  True  True False False False False False]\n",
      "[1 2 3 4]\n"
     ]
    }
   ],
   "source": [
    "# if else kullanmadan rahatlikla islemler yapilabilir\n",
    "numpy_array = np.array([1, 2, 3, 4, 5, 6, 7, 8, 9])\n",
    "\n",
    "# 5ten buyuk olan degerleri\n",
    "boolen_array = numpy_array > 5\n",
    "print(boolen_array)\n",
    "print(numpy_array[boolen_array])\n",
    "print('\\n')\n",
    "\n",
    "# 5ten kucuk elemanlari\n",
    "print(numpy_array < 5)\n",
    "print(numpy_array[numpy_array < 5])"
   ]
  }
 ],
 "metadata": {
  "kernelspec": {
   "display_name": "Python 3 (ipykernel)",
   "language": "python",
   "name": "python3"
  },
  "language_info": {
   "codemirror_mode": {
    "name": "ipython",
    "version": 3
   },
   "file_extension": ".py",
   "mimetype": "text/x-python",
   "name": "python",
   "nbconvert_exporter": "python",
   "pygments_lexer": "ipython3",
   "version": "3.9.13"
  }
 },
 "nbformat": 4,
 "nbformat_minor": 5
}
